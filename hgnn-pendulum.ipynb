{
 "cells": [
  {
   "cell_type": "code",
   "execution_count": 1,
   "id": "d430adab",
   "metadata": {},
   "outputs": [],
   "source": [
    "%load_ext autoreload\n",
    "%autoreload 2"
   ]
  },
  {
   "cell_type": "code",
   "execution_count": 2,
   "id": "065c26cf",
   "metadata": {},
   "outputs": [
    {
     "name": "stdout",
     "output_type": "stream",
     "text": [
      "Jax: CPUs=1 - GPUs=1\n"
     ]
    }
   ],
   "source": [
    "from functools import partial\n",
    "import os\n",
    "import pickle as pkl\n",
    "from collections.abc import MutableMapping\n",
    "import time\n",
    "from typing import Any, Callable, Iterable, Mapping, Optional, Union\n",
    "import json\n",
    "\n",
    "import matplotlib.pyplot as plt\n",
    "import numpy as np\n",
    "import tqdm\n",
    "\n",
    "os.environ[\"CUDA_VISIBLE_DEVICES\"] = \"7\"\n",
    "os.environ[\"DDE_BACKEND\"] = \"jax\"\n",
    "\n",
    "import jax\n",
    "from jax import vmap, lax\n",
    "import jax.numpy as jnp\n",
    "from jax.example_libraries import optimizers\n",
    "\n",
    "import flax\n",
    "from flax import linen as nn\n",
    "import optax\n",
    "from frozendict import frozendict\n",
    "\n",
    "import jraph\n",
    "from jraph._src import graph as gn_graph\n",
    "from jraph._src import utils\n",
    "\n",
    "print(f'Jax: CPUs={jax.local_device_count(\"cpu\")} - GPUs={jax.local_device_count(\"gpu\")}')"
   ]
  },
  {
   "cell_type": "code",
   "execution_count": 3,
   "id": "b15b0422",
   "metadata": {},
   "outputs": [],
   "source": [
    "from hgnn.model import *\n",
    "from hgnn.hamiltonian import *\n",
    "from hgnn.training import *\n",
    "from hgnn.simulating import *"
   ]
  },
  {
   "cell_type": "code",
   "execution_count": null,
   "id": "51c7dcff",
   "metadata": {},
   "outputs": [],
   "source": []
  },
  {
   "cell_type": "code",
   "execution_count": 25,
   "id": "9d10514f",
   "metadata": {},
   "outputs": [
    {
     "name": "stdout",
     "output_type": "stream",
     "text": [
      "N2: 6\n",
      "dim: 2\n",
      "Zs.shape: (7500, 6, 2)\n",
      "Zs_dot.shape: (7500, 6, 2)\n",
      "Zst.shape: (2500, 6, 2)\n",
      "Zst_dot.shape: (2500, 6, 2)\n",
      "Zs_test.shape: (25, 100, 6, 2)\n",
      "\n",
      "stride: 1000\n",
      "dt: 1e-05\n"
     ]
    }
   ],
   "source": [
    "prefix = 'pendulum-n3'\n",
    "\n",
    "Zs_train = jnp.load(f'./data/{prefix}/Zs_train.npy')\n",
    "Zs_dot_train = jnp.load(f'./data/{prefix}/Zs_dot_train.npy')\n",
    "Zs_test = jnp.load(f'./data/{prefix}/Zs_test.npy')\n",
    "Zs_dot_test = jnp.load(f'./data/{prefix}/Zs_dot_test.npy')\n",
    "\n",
    "N2, dim = Zs_train.shape[-2:]\n",
    "N = N2 // 2\n",
    "species = jnp.zeros(N, dtype=int)\n",
    "masses = jnp.ones(N)\n",
    "\n",
    "Zs = Zs_train.reshape(-1, N2, dim)\n",
    "Zs_dot = Zs_dot_train.reshape(-1, N2, dim)\n",
    "\n",
    "Zst = Zs_test.reshape(-1, N2, dim)\n",
    "Zst_dot = Zs_dot_test.reshape(-1, N2, dim)\n",
    "\n",
    "print('N2:', N2)\n",
    "print('dim:', dim)\n",
    "print('Zs.shape:', Zs.shape)\n",
    "print('Zs_dot.shape:', Zs_dot.shape)\n",
    "print('Zst.shape:', Zst.shape)\n",
    "print('Zst_dot.shape:', Zst_dot.shape)\n",
    "print('Zs_test.shape:', Zs_test.shape)\n",
    "print()\n",
    "\n",
    "with open(f'./data/{prefix}/param.json', 'r') as f:\n",
    "    d = json.load(f)\n",
    "    stride = d['stride']\n",
    "    dt = d['dt']\n",
    "    \n",
    "print('stride:', stride)\n",
    "print('dt:', dt)"
   ]
  },
  {
   "cell_type": "code",
   "execution_count": null,
   "id": "33e242a0",
   "metadata": {},
   "outputs": [],
   "source": []
  },
  {
   "cell_type": "code",
   "execution_count": 11,
   "id": "94741e56",
   "metadata": {},
   "outputs": [],
   "source": [
    "def pendulum_connections(P):\n",
    "    return (jnp.array([i for i in range(P-1)] + [i for i in range(1, P)], dtype=int),\n",
    "            jnp.array([i for i in range(1, P)] + [i for i in range(P-1)], dtype=int))\n",
    "\n",
    "def edge_order(P):\n",
    "    N = (P-1)\n",
    "    return jnp.array(jnp.hstack([jnp.array(range(N, 2*N)), jnp.array(range(N))]), dtype=int)\n",
    "\n",
    "senders, receivers = pendulum_connections(N)\n",
    "eorder = edge_order(N)"
   ]
  },
  {
   "cell_type": "code",
   "execution_count": null,
   "id": "24a4061a",
   "metadata": {},
   "outputs": [],
   "source": []
  },
  {
   "cell_type": "code",
   "execution_count": 12,
   "id": "771d863e",
   "metadata": {},
   "outputs": [],
   "source": [
    "key = jax.random.PRNGKey(42)\n",
    "\n",
    "Ef = 1  # eij dim\n",
    "Oh = 1\n",
    "\n",
    "Eei = 5\n",
    "Nei = 5\n",
    "\n",
    "hidden = 5\n",
    "nhidden = 2"
   ]
  },
  {
   "cell_type": "code",
   "execution_count": 13,
   "id": "476f9a88",
   "metadata": {},
   "outputs": [],
   "source": [
    "params = generate_HGNN_params(Oh, Nei, Ef, Eei, dim, hidden, nhidden, key)"
   ]
  },
  {
   "cell_type": "code",
   "execution_count": 14,
   "id": "af7fd0dd",
   "metadata": {},
   "outputs": [],
   "source": [
    "R, V = jnp.split(Zs[0], 2, axis=0)\n",
    "\n",
    "apply_fn = energy_fn(senders=senders, receivers=receivers, species=species, R=R, V=V, eorder=eorder)\n",
    "Hmodel = generate_Hmodel(apply_fn)\n",
    "\n",
    "\n",
    "def phi(x):\n",
    "    X = jnp.vstack([x[:1, :]*0, x])\n",
    "    return jnp.square(X[:-1, :] - X[1:, :]).sum(axis=1) - 1.0\n",
    "\n",
    "constraints = get_constraints(N, dim, phi)\n",
    "\n",
    "zdot_model, lamda_force_model = get_zdot_lambda(\n",
    "    N, dim, hamiltonian=Hmodel, drag=None, \n",
    "    constraints=constraints, \n",
    "    external_force=None)\n",
    "\n",
    "\n",
    "v_zdot_model = vmap(zdot_model, in_axes=(0, 0, None))"
   ]
  },
  {
   "cell_type": "code",
   "execution_count": 15,
   "id": "11538cd4",
   "metadata": {
    "scrolled": false
   },
   "outputs": [
    {
     "name": "stdout",
     "output_type": "stream",
     "text": [
      "Training ...\n"
     ]
    },
    {
     "name": "stderr",
     "output_type": "stream",
     "text": [
      "/tmp/ipykernel_54326/4122033605.py:35: TqdmDeprecationWarning: Please use `tqdm.notebook.trange` instead of `tqdm.tnrange`\n",
      "  for epoch in tqdm.tnrange(epochs):\n"
     ]
    },
    {
     "data": {
      "application/json": {
       "ascii": false,
       "bar_format": null,
       "colour": null,
       "elapsed": 0.010378360748291016,
       "initial": 0,
       "n": 0,
       "ncols": null,
       "nrows": 31,
       "postfix": null,
       "prefix": "",
       "rate": null,
       "total": 2000,
       "unit": "it",
       "unit_divisor": 1000,
       "unit_scale": false
      },
      "application/vnd.jupyter.widget-view+json": {
       "model_id": "bc17c1db967b440ca4423d2c55f4a52c",
       "version_major": 2,
       "version_minor": 0
      },
      "text/plain": [
       "  0%|          | 0/2000 [00:00<?, ?it/s]"
      ]
     },
     "metadata": {},
     "output_type": "display_data"
    },
    {
     "name": "stdout",
     "output_type": "stream",
     "text": [
      "Epoch: 50/2000 Loss (MSE):  train=5.105631351470947, test=22.589975357055664\n",
      "Epoch: 100/2000 Loss (MSE):  train=0.0019023959757760167, test=0.0007206756272353232\n",
      "Epoch: 150/2000 Loss (MSE):  train=2.92191489279503e-05, test=2.356639743084088e-05\n",
      "Epoch: 200/2000 Loss (MSE):  train=0.0008474013884551823, test=0.004619003273546696\n",
      "Epoch: 250/2000 Loss (MSE):  train=0.0007842393824830651, test=0.0011575802927836776\n",
      "Epoch: 300/2000 Loss (MSE):  train=0.00037077549495734274, test=0.0004297311243135482\n",
      "Epoch: 350/2000 Loss (MSE):  train=0.012249628081917763, test=0.006170636974275112\n",
      "Epoch: 400/2000 Loss (MSE):  train=0.00013770400255452842, test=0.000781384005676955\n",
      "Epoch: 450/2000 Loss (MSE):  train=4.3716339860111475e-05, test=0.00023212103405967355\n",
      "Epoch: 500/2000 Loss (MSE):  train=0.004272743593901396, test=0.0005067817983217537\n",
      "Epoch: 550/2000 Loss (MSE):  train=5.140547614246316e-07, test=3.2816903967614053e-06\n",
      "Epoch: 600/2000 Loss (MSE):  train=1.9968518245150335e-05, test=0.00011106904275948182\n",
      "Epoch: 650/2000 Loss (MSE):  train=2.064401996904053e-06, test=9.318648153566755e-06\n",
      "Epoch: 700/2000 Loss (MSE):  train=2.9083304980304092e-05, test=0.00019250132027082145\n",
      "Epoch: 750/2000 Loss (MSE):  train=0.0026569191832095385, test=0.015939584001898766\n",
      "Epoch: 800/2000 Loss (MSE):  train=3.772895070142113e-05, test=0.00018648040713742375\n",
      "Epoch: 850/2000 Loss (MSE):  train=0.026880715042352676, test=0.06591343879699707\n",
      "Epoch: 900/2000 Loss (MSE):  train=0.33060479164123535, test=0.9998687505722046\n",
      "Epoch: 950/2000 Loss (MSE):  train=1.6792251926744939e-06, test=3.081597469645203e-06\n",
      "Epoch: 1000/2000 Loss (MSE):  train=0.0002768469857983291, test=9.389159095007926e-05\n",
      "Epoch: 1050/2000 Loss (MSE):  train=1.281217464565998e-05, test=8.312635327456519e-05\n",
      "Epoch: 1100/2000 Loss (MSE):  train=1.7111167835537344e-05, test=7.824658678146079e-05\n",
      "Epoch: 1150/2000 Loss (MSE):  train=1.4785221537749749e-05, test=2.651949216669891e-05\n",
      "Epoch: 1200/2000 Loss (MSE):  train=6.514741016871994e-06, test=1.865183367044665e-05\n",
      "Epoch: 1250/2000 Loss (MSE):  train=0.03469197824597359, test=0.04166566580533981\n",
      "Epoch: 1300/2000 Loss (MSE):  train=7.954520697239786e-05, test=7.980343798408285e-05\n",
      "Epoch: 1350/2000 Loss (MSE):  train=0.1999739110469818, test=1.0735541582107544\n",
      "Epoch: 1400/2000 Loss (MSE):  train=0.008288474753499031, test=0.006290756165981293\n",
      "Epoch: 1450/2000 Loss (MSE):  train=1.8931895056084613e-06, test=7.935095140965132e-07\n",
      "Epoch: 1500/2000 Loss (MSE):  train=0.009884923696517944, test=0.038256291300058365\n",
      "Epoch: 1550/2000 Loss (MSE):  train=1.9809600416920148e-05, test=2.3499445887864567e-05\n",
      "Epoch: 1600/2000 Loss (MSE):  train=0.002727908082306385, test=0.0006692047463729978\n",
      "Epoch: 1650/2000 Loss (MSE):  train=3.978830136475153e-05, test=5.3150470193941146e-05\n",
      "Epoch: 1700/2000 Loss (MSE):  train=2.4801428821774607e-07, test=2.0339031436833466e-07\n",
      "Epoch: 1750/2000 Loss (MSE):  train=7.3141818575095385e-06, test=6.489363840955775e-06\n",
      "Epoch: 1800/2000 Loss (MSE):  train=0.01369545515626669, test=0.04556053876876831\n",
      "Epoch: 1850/2000 Loss (MSE):  train=0.0005156486877240241, test=0.00033486870233900845\n",
      "Epoch: 1900/2000 Loss (MSE):  train=0.03167176619172096, test=0.057793572545051575\n",
      "Epoch: 1950/2000 Loss (MSE):  train=0.018578970804810524, test=0.013311413116753101\n",
      "Epoch: 2000/2000 Loss (MSE):  train=8.629896001366433e-06, test=2.0656058040913194e-05\n"
     ]
    },
    {
     "data": {
      "text/plain": [
       "<matplotlib.legend.Legend at 0x7f9d745420a0>"
      ]
     },
     "execution_count": 15,
     "metadata": {},
     "output_type": "execute_result"
    },
    {
     "data": {
      "image/png": "[encoded data removed]",
      "text/plain": [
       "<Figure size 640x480 with 1 Axes>"
      ]
     },
     "metadata": {},
     "output_type": "display_data"
    }
   ],
   "source": [
    "lr = 1e-2\n",
    "batch_size = 100\n",
    "epochs = 2000\n",
    "\n",
    "loss_fn = generate_loss_fn(v_zdot_model=v_zdot_model)\n",
    "gloss = generate_gloss(loss_fn=loss_fn)\n",
    "\n",
    "opt_init, opt_update_, get_params = optimizers.adam(lr)\n",
    "\n",
    "opt_update = generate_opt_update_wrapper(opt_update_=opt_update_)\n",
    "\n",
    "step = generate_update_fn(gloss=gloss, opt_update=opt_update, get_params=get_params)\n",
    "\n",
    "Rs, Vs = jnp.split(Zs, 2, axis=1)\n",
    "Rst, Vst = jnp.split(Zst, 2, axis=1)\n",
    "\n",
    "bRs, bVs, bZs_dot = batching(Rs, Vs, Zs_dot,\n",
    "                            size=min(len(Rs), batch_size))\n",
    "\n",
    "print(f\"Training ...\")\n",
    "\n",
    "# opt_state = optimiser.init(params)\n",
    "opt_state = opt_init(params)\n",
    "\n",
    "epoch = 0\n",
    "optimizer_step = -1\n",
    "larray = []\n",
    "ltarray = []\n",
    "\n",
    "start = time.time()\n",
    "train_time_arr = []\n",
    "\n",
    "last_loss = 1000\n",
    "\n",
    "for epoch in tqdm.tnrange(epochs):\n",
    "    l = 0.0\n",
    "    for data in zip(bRs, bVs, bZs_dot):\n",
    "        optimizer_step += 1\n",
    "        opt_state, params, l_ = step(optimizer_step, (opt_state, params, 0), *data)\n",
    "        l += l_\n",
    "    l = l/len(bRs)\n",
    "    if (epoch + 1) % (epochs // 20) == 0:\n",
    "        # opt_state, params, l = step(\n",
    "        #     optimizer_step, (opt_state, params, 0), Rs, Vs, Zs_dot)\n",
    "        larray += [l]\n",
    "        ltarray += [loss_fn(params, Rst, Vst, Zst_dot)]\n",
    "        print(f\"Epoch: {epoch + 1}/{epochs} Loss (MSE):  train={larray[-1]}, test={ltarray[-1]}\")\n",
    "\n",
    "    now = time.time()\n",
    "    train_time_arr.append((now - start))\n",
    "    \n",
    "params = get_params(opt_state)\n",
    "\n",
    "fig, axs = plt.subplots(1, 1)\n",
    "plt.semilogy(larray, label=\"Training\")\n",
    "plt.semilogy(ltarray, label=\"Test\")\n",
    "plt.xlabel(\"Epoch\")\n",
    "plt.ylabel(\"Loss\")\n",
    "plt.legend()"
   ]
  },
  {
   "cell_type": "code",
   "execution_count": null,
   "id": "3862b2b9",
   "metadata": {},
   "outputs": [],
   "source": []
  },
  {
   "cell_type": "code",
   "execution_count": 20,
   "id": "d539e851",
   "metadata": {
    "scrolled": false
   },
   "outputs": [
    {
     "name": "stderr",
     "output_type": "stream",
     "text": [
      "/tmp/ipykernel_54326/2194958564.py:9: TqdmDeprecationWarning: Please use `tqdm.notebook.trange` instead of `tqdm.tnrange`\n",
      "  for ind in tqdm.tnrange(maxtraj):\n"
     ]
    },
    {
     "data": {
      "application/json": {
       "ascii": false,
       "bar_format": null,
       "colour": null,
       "elapsed": 0.012017965316772461,
       "initial": 0,
       "n": 0,
       "ncols": null,
       "nrows": 31,
       "postfix": null,
       "prefix": "",
       "rate": null,
       "total": 25,
       "unit": "it",
       "unit_divisor": 1000,
       "unit_scale": false
      },
      "application/vnd.jupyter.widget-view+json": {
       "model_id": "592b7becba1c4604ab565b370331de0e",
       "version_major": 2,
       "version_minor": 0
      },
      "text/plain": [
       "  0%|          | 0/25 [00:00<?, ?it/s]"
      ]
     },
     "metadata": {},
     "output_type": "display_data"
    }
   ],
   "source": [
    "runs = Zs_test.shape[1]\n",
    "maxtraj = Zs_test.shape[0]\n",
    "\n",
    "sim_model = get_forward_sim(params=params, zdot_model=zdot_model, runs=runs, stride=stride, dt=dt)\n",
    "\n",
    "trajectories = []\n",
    "\n",
    "for ind in tqdm.tnrange(maxtraj):\n",
    "    \n",
    "    z_actual_out = Zs_test[ind]\n",
    "    x_act_out, p_act_out = jnp.split(z_actual_out, 2, axis=1)\n",
    "\n",
    "    R = Zs_test[ind, 0, :N]\n",
    "    V = Zs_test[ind, 0, N:]\n",
    "    z_pred_out = sim_model(R, V)\n",
    "    x_pred_out, p_pred_out = jnp.split(z_pred_out, 2, axis=1)\n",
    "\n",
    "    with jax.default_device(jax.devices('cpu')[0]):\n",
    "        trajectories.append({\n",
    "            'pred_pos': x_pred_out,\n",
    "            'pred_vel': p_pred_out,\n",
    "            'actual_pos': x_act_out,\n",
    "            'actual_vel': p_act_out,\n",
    "        })"
   ]
  },
  {
   "cell_type": "code",
   "execution_count": 37,
   "id": "ad276571",
   "metadata": {},
   "outputs": [
    {
     "data": {
      "image/png": "[encoded data removed]",
      "text/plain": [
       "<Figure size 640x480 with 1 Axes>"
      ]
     },
     "metadata": {},
     "output_type": "display_data"
    }
   ],
   "source": [
    "idx = 20\n",
    "\n",
    "r = trajectories[idx]['actual_pos']\n",
    "\n",
    "for i in range(r.shape[1]):\n",
    "    plt.plot(r[:,i,0], r[:,i,1], '-', color=f'C{i}', alpha=0.1)\n",
    "    \n",
    "plt.plot([0] + list(r[-1,:,0]), [0] + list(r[-1,:,1]), 'o', color='black', alpha=0.1)\n",
    "# plt.gca().set_aspect('equal', adjustable='box')\n",
    "# plt.show()\n",
    "\n",
    "r = trajectories[idx]['pred_pos']\n",
    "\n",
    "for i in range(r.shape[1]):\n",
    "    plt.plot(r[:,i,0], r[:,i,1], '-', color=f'C{i}')\n",
    "    \n",
    "plt.plot([0] + list(r[-1,:,0]), [0] + list(r[-1,:,1]), '-', color='gray', alpha=0.6)\n",
    "plt.plot([0] + list(r[-1,:,0]), [0] + list(r[-1,:,1]), 'o', color='black')\n",
    "plt.gca().set_aspect('equal', adjustable='box')\n",
    "plt.show()"
   ]
  },
  {
   "cell_type": "code",
   "execution_count": null,
   "id": "d364ccb8",
   "metadata": {
    "scrolled": false
   },
   "outputs": [],
   "source": []
  },
  {
   "cell_type": "code",
   "execution_count": null,
   "id": "15f23735",
   "metadata": {},
   "outputs": [],
   "source": []
  },
  {
   "cell_type": "code",
   "execution_count": null,
   "id": "96885c2e",
   "metadata": {},
   "outputs": [],
   "source": []
  }
 ],
 "metadata": {
  "kernelspec": {
   "display_name": "Python 3 (ipykernel)",
   "language": "python",
   "name": "python3"
  },
  "language_info": {
   "codemirror_mode": {
    "name": "ipython",
    "version": 3
   },
   "file_extension": ".py",
   "mimetype": "text/x-python",
   "name": "python",
   "nbconvert_exporter": "python",
   "pygments_lexer": "ipython3",
   "version": "3.8.0"
  }
 },
 "nbformat": 4,
 "nbformat_minor": 5
}
