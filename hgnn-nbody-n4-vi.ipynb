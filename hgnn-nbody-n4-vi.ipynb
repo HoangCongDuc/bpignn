{
 "cells": [
  {
   "cell_type": "code",
   "execution_count": 1,
   "id": "d430adab",
   "metadata": {},
   "outputs": [],
   "source": [
    "%load_ext autoreload\n",
    "%autoreload 2"
   ]
  },
  {
   "cell_type": "code",
   "execution_count": 2,
   "id": "065c26cf",
   "metadata": {},
   "outputs": [
    {
     "name": "stderr",
     "output_type": "stream",
     "text": [
      "/home/apivich/maplecg_nfs/anaconda3/envs/ntk/lib/python3.8/site-packages/flax/struct.py:136: FutureWarning: jax.tree_util.register_keypaths is deprecated, and will be removed in a future release. Please use `register_pytree_with_keys()` instead.\n",
      "  jax.tree_util.register_keypaths(data_clz, keypaths)\n",
      "/home/apivich/maplecg_nfs/anaconda3/envs/ntk/lib/python3.8/site-packages/flax/struct.py:136: FutureWarning: jax.tree_util.register_keypaths is deprecated, and will be removed in a future release. Please use `register_pytree_with_keys()` instead.\n",
      "  jax.tree_util.register_keypaths(data_clz, keypaths)\n"
     ]
    },
    {
     "name": "stdout",
     "output_type": "stream",
     "text": [
      "Jax: CPUs=1 - GPUs=1\n"
     ]
    }
   ],
   "source": [
    "from functools import partial\n",
    "import os\n",
    "import pickle as pkl\n",
    "from collections.abc import MutableMapping\n",
    "import time\n",
    "from typing import Any, Callable, Iterable, Mapping, Optional, Union\n",
    "import json\n",
    "\n",
    "import matplotlib.pyplot as plt\n",
    "from matplotlib.animation import FuncAnimation, PillowWriter\n",
    "import numpy as np\n",
    "import tqdm\n",
    "from IPython.display import HTML\n",
    "\n",
    "os.environ[\"CUDA_VISIBLE_DEVICES\"] = \"7\"\n",
    "\n",
    "import jax\n",
    "from jax import vmap, lax\n",
    "import jax.numpy as jnp\n",
    "from jax.example_libraries import optimizers\n",
    "\n",
    "import flax\n",
    "from flax import linen as nn\n",
    "import optax\n",
    "from frozendict import frozendict\n",
    "\n",
    "import numpyro\n",
    "import numpyro.distributions as dist\n",
    "from numpyro.infer import MCMC, NUTS, HMC, SVI, Trace_ELBO\n",
    "\n",
    "import jraph\n",
    "from jraph._src import graph as gn_graph\n",
    "from jraph._src import utils\n",
    "\n",
    "print(f'Jax: CPUs={jax.local_device_count(\"cpu\")} - GPUs={jax.local_device_count(\"gpu\")}')"
   ]
  },
  {
   "cell_type": "code",
   "execution_count": 3,
   "id": "b15b0422",
   "metadata": {},
   "outputs": [],
   "source": [
    "from hgnn.noisify import add_noise_and_truncate\n",
    "from hgnn.model import *\n",
    "from hgnn.hamiltonian import *\n",
    "from hgnn.training import *\n",
    "from hgnn.simulating import *"
   ]
  },
  {
   "cell_type": "code",
   "execution_count": null,
   "id": "51c7dcff",
   "metadata": {},
   "outputs": [],
   "source": []
  },
  {
   "cell_type": "code",
   "execution_count": 4,
   "id": "9d10514f",
   "metadata": {},
   "outputs": [
    {
     "name": "stdout",
     "output_type": "stream",
     "text": [
      "N2: 8\n",
      "dim: 3\n",
      "Zs.shape: (7500, 8, 3)\n",
      "Zs_dot.shape: (7500, 8, 3)\n",
      "Zst.shape: (2500, 8, 3)\n",
      "Zst_dot.shape: (2500, 8, 3)\n",
      "Zs_test.shape: (5, 500, 8, 3)\n",
      "\n",
      "stride: 100\n",
      "dt: 0.001\n",
      "lr: 0.01\n",
      "batch_size: 100\n",
      "epochs: 2000\n"
     ]
    }
   ],
   "source": [
    "prefix = 'nbody-n4'\n",
    "noise_scale = 0.01\n",
    "truncate_decimal = 2\n",
    "\n",
    "Zs_train = jnp.load(f'./data/{prefix}/Zs_train.npy')\n",
    "Zs_dot_train = jnp.load(f'./data/{prefix}/Zs_dot_train.npy')\n",
    "Zs_test = jnp.load(f'./data/{prefix}/Zs_test.npy')\n",
    "Zs_dot_test = jnp.load(f'./data/{prefix}/Zs_dot_test.npy')\n",
    "\n",
    "Zs_train, Zs_dot_train = add_noise_and_truncate(Zs_train, Zs_dot_train, \n",
    "                                                scale=noise_scale, \n",
    "                                                decimals=truncate_decimal)\n",
    "# Zs_test, Zs_dot_test = add_noise_and_truncate(Zs_test, Zs_dot_test, scale=0.05, decimals=1)\n",
    "\n",
    "N2, dim = Zs_train.shape[-2:]\n",
    "N = N2 // 2\n",
    "species = jnp.zeros(N, dtype=int)\n",
    "masses = jnp.ones(N)\n",
    "\n",
    "Zs = Zs_train.reshape(-1, N2, dim)\n",
    "Zs_dot = Zs_dot_train.reshape(-1, N2, dim)\n",
    "\n",
    "Zst = Zs_test.reshape(-1, N2, dim)\n",
    "Zst_dot = Zs_dot_test.reshape(-1, N2, dim)\n",
    "\n",
    "print('N2:', N2)\n",
    "print('dim:', dim)\n",
    "print('Zs.shape:', Zs.shape)\n",
    "print('Zs_dot.shape:', Zs_dot.shape)\n",
    "print('Zst.shape:', Zst.shape)\n",
    "print('Zst_dot.shape:', Zst_dot.shape)\n",
    "print('Zs_test.shape:', Zs_test.shape)\n",
    "print()\n",
    "\n",
    "with open(f'./data/{prefix}/param.json', 'r') as f:\n",
    "    d = json.load(f)\n",
    "    stride = d['stride']\n",
    "    dt = d['dt']\n",
    "    lr = d['lr']\n",
    "    batch_size = d['batch_size']\n",
    "    epochs = d['epochs']\n",
    "    \n",
    "print('stride:', stride)\n",
    "print('dt:', dt)\n",
    "print('lr:', lr)\n",
    "print('batch_size:', batch_size)\n",
    "print('epochs:', epochs)"
   ]
  },
  {
   "cell_type": "code",
   "execution_count": null,
   "id": "9b90671d",
   "metadata": {},
   "outputs": [],
   "source": []
  },
  {
   "cell_type": "code",
   "execution_count": 5,
   "id": "a8517da1",
   "metadata": {},
   "outputs": [],
   "source": [
    "def get_fully_connected_senders_and_receivers(num_particles: int, self_edges: bool = False):\n",
    "    \"\"\"Returns senders and receivers for fully connected particles.\"\"\"\n",
    "    particle_indices = np.arange(num_particles)\n",
    "    senders, receivers = np.meshgrid(particle_indices, particle_indices)\n",
    "    senders, receivers = senders.flatten(), receivers.flatten()\n",
    "    if not self_edges:\n",
    "        mask = senders != receivers\n",
    "        senders, receivers = senders[mask], receivers[mask]\n",
    "    return senders, receivers\n",
    "\n",
    "def get_fully_edge_order(N):\n",
    "    out = []\n",
    "    for j in range(N):\n",
    "        for i in range(N):\n",
    "            if i == j:\n",
    "                pass\n",
    "            else:\n",
    "                if j > i:\n",
    "                    out += [i*(N-1) + j-1]\n",
    "                else:\n",
    "                    out += [i*(N-1) + j]\n",
    "    return np.array(out)\n",
    "\n",
    "senders, receivers = get_fully_connected_senders_and_receivers(N)\n",
    "eorder = get_fully_edge_order(N)"
   ]
  },
  {
   "cell_type": "code",
   "execution_count": null,
   "id": "c97cf773",
   "metadata": {},
   "outputs": [],
   "source": []
  },
  {
   "cell_type": "code",
   "execution_count": 6,
   "id": "771d863e",
   "metadata": {},
   "outputs": [],
   "source": [
    "key = jax.random.PRNGKey(42)\n",
    "\n",
    "Ef = 1  # eij dim\n",
    "Oh = 1\n",
    "\n",
    "Eei = 5\n",
    "Nei = 5\n",
    "\n",
    "hidden = 5\n",
    "nhidden = 2"
   ]
  },
  {
   "cell_type": "code",
   "execution_count": 7,
   "id": "af7fd0dd",
   "metadata": {},
   "outputs": [],
   "source": [
    "R, V = jnp.split(Zs[0], 2, axis=0)\n",
    "\n",
    "apply_fn = energy_fn(senders=senders, receivers=receivers, species=species, R=R, V=V, eorder=eorder, dropout_rate=0.)\n",
    "Hmodel = generate_Hmodel(apply_fn)\n",
    "\n",
    "zdot_model, lamda_force_model = get_zdot_lambda(\n",
    "    N, dim, hamiltonian=Hmodel, drag=None, \n",
    "    constraints=None, \n",
    "    external_force=None)\n",
    "\n",
    "\n",
    "v_zdot_model = vmap(zdot_model, in_axes=(0, 0, None))"
   ]
  },
  {
   "cell_type": "code",
   "execution_count": 8,
   "id": "46e03d7a",
   "metadata": {},
   "outputs": [],
   "source": [
    "def initialize_mlp_prob(name, sizes, affine=[False], scale=1.0):\n",
    "    \"\"\" Initialize the weights of all layers of a linear layer network \"\"\"\n",
    "    # Initialize a single layer with Gaussian weights -  helper function\n",
    "    if len(affine) != len(sizes):\n",
    "        affine = [affine[0]]*len(sizes)\n",
    "    affine[-1] = True\n",
    "\n",
    "    def initialize_layer(name_, m, n, affine=True, scale=1e-2):\n",
    "        ws = numpyro.sample(f'{name_}_W', dist.Normal(scale=scale), sample_shape=(n, m))\n",
    "#         bs = numpyro.sample(f'{name_}_b', dist.Normal(scale=(0. if affine else scale)), sample_shape=(n,))\n",
    "        bs = numpyro.sample(f'{name_}_b', dist.Normal(scale=scale), sample_shape=(n,))\n",
    "        return ws, bs\n",
    "        \n",
    "    return [initialize_layer(f'{name}_{i}', m, n, affine=a, scale=scale) \n",
    "            for i, (m, n, a) in enumerate(zip(sizes[:-1], sizes[1:], affine))]\n",
    "\n",
    "\n",
    "def mlp_prob(name, in_, out_, hidden, nhidden, **kwargs):\n",
    "    return initialize_mlp_prob(name, get_layers(in_, out_, hidden, nhidden), **kwargs)\n",
    "\n",
    "\n",
    "def generate_HGNN_params_prob(Oh, Nei, Ef, Eei, dim, hidden, nhidden):\n",
    "    \n",
    "    fneke_params = initialize_mlp_prob('fneke', [Oh, Nei])\n",
    "    fne_params = initialize_mlp_prob('fne', [Oh, Nei])\n",
    "\n",
    "    fb_params = mlp_prob('fb', Ef, Eei, hidden, nhidden)\n",
    "    fv_params = mlp_prob('fv', Nei + Eei, Nei, hidden, nhidden)\n",
    "    fe_params = mlp_prob('fe', Nei, Eei, hidden, nhidden)\n",
    "\n",
    "    ff1_params = mlp_prob('ff1', Eei, 1, hidden, nhidden)\n",
    "    ff2_params = mlp_prob('ff2', Nei, 1, hidden, nhidden)\n",
    "    ff3_params = mlp_prob('ff3', dim + Nei, 1, hidden, nhidden)\n",
    "    ke_params = initialize_mlp_prob('ke', [1 + Nei, 10, 10, 1], affine=[True])\n",
    "\n",
    "    Hparams = dict(\n",
    "        fb=fb_params,\n",
    "        fv=fv_params,\n",
    "        fe=fe_params,\n",
    "        ff1=ff1_params,\n",
    "        ff2=ff2_params,\n",
    "        ff3=ff3_params,\n",
    "        fne=fne_params,\n",
    "        fneke=fneke_params,\n",
    "        ke=ke_params\n",
    "    )\n",
    "    \n",
    "    return {\"H\": Hparams}"
   ]
  },
  {
   "cell_type": "code",
   "execution_count": 9,
   "id": "f28e790c",
   "metadata": {},
   "outputs": [],
   "source": [
    "def model(Rs_, Vs_, Zs_dot_=None):\n",
    "    \n",
    "    p_ = generate_HGNN_params_prob(Oh, Nei, Ef, Eei, dim, hidden, nhidden)\n",
    "    \n",
    "    with numpyro.plate(\"data\", len(Rs_), dim=-1, subsample_size=batch_size) as ind:\n",
    "        R = Rs_[ind]\n",
    "        V = Vs_[ind]\n",
    "        Zdot = None if (Zs_dot_ is None) else Zs_dot_[ind]\n",
    "        pred = v_zdot_model(R, V, p_)\n",
    "    numpyro.sample('zs_dot', dist.Normal(pred, 1e-4), obs=Zdot)\n",
    "        \n",
    "#     pred = v_zdot_model(Rs_, Vs_, p_)\n",
    "#     obs = numpyro.sample('zs_dot', dist.Normal(pred, scale=1e-4), obs=Zs_dot_)  # originally 1e-4\n",
    "        \n",
    "    return pred"
   ]
  },
  {
   "cell_type": "code",
   "execution_count": 10,
   "id": "82a3eec3",
   "metadata": {},
   "outputs": [],
   "source": [
    "Rs, Vs = jnp.split(Zs, 2, axis=1)\n",
    "Rst, Vst = jnp.split(Zst, 2, axis=1)\n",
    "\n",
    "# bRs, bVs, bZs_dot = batching(Rs, Vs, Zs_dot, size=min(len(Rs), batch_size))\n",
    "# batches = list(zip(bRs, bVs, bZs_dot))\n",
    "# batches = jnp.concatenate([bRs, bZs_dot], axis=2)"
   ]
  },
  {
   "cell_type": "code",
   "execution_count": null,
   "id": "e0bc36b4",
   "metadata": {},
   "outputs": [],
   "source": []
  },
  {
   "cell_type": "code",
   "execution_count": 11,
   "id": "824a7d73",
   "metadata": {
    "scrolled": false
   },
   "outputs": [
    {
     "name": "stderr",
     "output_type": "stream",
     "text": [
      "100%|█████████████████████████████████████████████████████████████████████████████████████████████████████████████████| 200000/200000 [13:41<00:00, 243.50it/s, init loss: 111360771044147200.0000, avg. loss [190001-200000]: 351681856.0000]\n"
     ]
    }
   ],
   "source": [
    "# Start from this source of randomness. We will split keys for subsequent operations.\n",
    "rng_key = random.PRNGKey(42)\n",
    "rng_key, rng_key_ = random.split(rng_key)\n",
    "\n",
    "guide = numpyro.infer.autoguide.AutoNormal(model, init_scale=0.1)\n",
    "optimizer = numpyro.optim.ClippedAdam(step_size=1e-3, clip_norm=1e-7)\n",
    "svi = SVI(model, guide=guide, optim=optimizer, loss=Trace_ELBO())\n",
    "svi_result = svi.run(rng_key_, 200000, Rs, Vs, Zs_dot, stable_update=True)"
   ]
  },
  {
   "cell_type": "code",
   "execution_count": 12,
   "id": "e0137df7",
   "metadata": {},
   "outputs": [],
   "source": [
    "#51825428.0000"
   ]
  },
  {
   "cell_type": "code",
   "execution_count": 13,
   "id": "babcc84c",
   "metadata": {},
   "outputs": [],
   "source": [
    "def construct_param(samples, i):\n",
    "    \n",
    "    d = dict()\n",
    "    p_names = set([n.split('_')[0] for n in samples.keys()])\n",
    "    \n",
    "    for n in p_names:\n",
    "        k = 0\n",
    "        l = []\n",
    "        while f'{n}_{k}_W' in samples:\n",
    "            ws = samples[f'{n}_{k}_W'][i]\n",
    "            bs = samples[f'{n}_{k}_b'][i]\n",
    "            l.append((ws, bs))\n",
    "            k += 1\n",
    "        d[n] = l\n",
    "        \n",
    "    return {'H': d}"
   ]
  },
  {
   "cell_type": "code",
   "execution_count": null,
   "id": "d539e851",
   "metadata": {
    "scrolled": true
   },
   "outputs": [
    {
     "name": "stderr",
     "output_type": "stream",
     "text": [
      "/tmp/ipykernel_2964579/3045620435.py:14: TqdmDeprecationWarning: Please use `tqdm.notebook.trange` instead of `tqdm.tnrange`\n",
      "  pbar = tqdm.tnrange(test_count * num_samples)\n"
     ]
    },
    {
     "data": {
      "application/json": {
       "ascii": false,
       "bar_format": null,
       "colour": null,
       "elapsed": 0.014079809188842773,
       "initial": 0,
       "n": 0,
       "ncols": null,
       "nrows": 27,
       "postfix": null,
       "prefix": "",
       "rate": null,
       "total": 500,
       "unit": "it",
       "unit_divisor": 1000,
       "unit_scale": false
      },
      "application/vnd.jupyter.widget-view+json": {
       "model_id": "26acdb67609e4d82a8fb258a8cbcb7ff",
       "version_major": 2,
       "version_minor": 0
      },
      "text/plain": [
       "  0%|          | 0/500 [00:00<?, ?it/s]"
      ]
     },
     "metadata": {},
     "output_type": "display_data"
    }
   ],
   "source": [
    "num_samples = 100\n",
    "\n",
    "all_traj = []\n",
    "\n",
    "test_count = Zs_test.shape[0]\n",
    "runs = Zs_test.shape[1]\n",
    "\n",
    "sim_model = get_forward_sim_noparam(\n",
    "    zdot_model=zdot_model, runs=runs, stride=stride, dt=dt, tol=1e-5)\n",
    "\n",
    "predictive = numpyro.infer.Predictive(guide, params=svi_result.params, num_samples=num_samples)\n",
    "samples = predictive(rng_key, Rs, Vs, Zs_dot)\n",
    "\n",
    "pbar = tqdm.tnrange(test_count * num_samples)\n",
    "\n",
    "for idx in range(test_count):\n",
    "    \n",
    "    pbar.set_description(f'Test {idx+1} of {test_count}')\n",
    "\n",
    "    z_actual_out = Zs_test[idx]\n",
    "    x_act_out, p_act_out = jnp.split(z_actual_out, 2, axis=1)\n",
    "\n",
    "    Zs_init = Zs_test[idx:idx+1, 0:1]\n",
    "\n",
    "    with jax.default_device(jax.devices('cpu')[0]):\n",
    "        trajectories = {\n",
    "            'pred_pos': [],\n",
    "            'pred_vel': [],\n",
    "            'actual_pos': jnp.array(x_act_out),\n",
    "            'actual_vel': jnp.array(p_act_out),\n",
    "        }\n",
    "\n",
    "    for i in range(num_samples):\n",
    "\n",
    "        st = construct_param(samples, i)\n",
    "\n",
    "        Zs_noisy = add_noise_and_truncate(Zs_init, Zs_init, scale=noise_scale)[0].squeeze((0, 1))\n",
    "        R_noisy = Zs_noisy[:N]\n",
    "        V_noisy = Zs_noisy[N:]\n",
    "\n",
    "#         R_noisy = Zs_init.squeeze((0, 1))[:N]\n",
    "#         V_noisy = Zs_init.squeeze((0, 1))[N:]\n",
    "\n",
    "        z_pred_out = sim_model(R_noisy, V_noisy, st)\n",
    "        x_pred_out, p_pred_out = jnp.split(z_pred_out, 2, axis=1)\n",
    "\n",
    "        with jax.default_device(jax.devices('cpu')[0]):\n",
    "            trajectories['pred_pos'].append(x_pred_out)\n",
    "            trajectories['pred_vel'].append(p_pred_out)\n",
    "            \n",
    "        pbar.update()\n",
    "        \n",
    "    with jax.default_device(jax.devices('cpu')[0]):\n",
    "        trajectories['pred_pos'] = jnp.array(trajectories['pred_pos'])\n",
    "        trajectories['pred_vel'] = jnp.array(trajectories['pred_vel'])\n",
    "        trajectories['pred_pos_avg'] = jnp.mean(trajectories['pred_pos'], axis=0)\n",
    "        trajectories['pred_vel_avg'] = jnp.mean(trajectories['pred_vel'], axis=0)\n",
    "    \n",
    "    all_traj.append(trajectories)"
   ]
  },
  {
   "cell_type": "code",
   "execution_count": null,
   "id": "45ee12b7",
   "metadata": {},
   "outputs": [],
   "source": [
    "with open('./results/nbody-n4-vi.pkl', 'wb+') as f:\n",
    "    pkl.dump(all_traj, f)"
   ]
  },
  {
   "cell_type": "code",
   "execution_count": null,
   "id": "4b8af86c",
   "metadata": {},
   "outputs": [],
   "source": []
  },
  {
   "cell_type": "code",
   "execution_count": null,
   "id": "621897ef",
   "metadata": {},
   "outputs": [],
   "source": [
    "idx = 0\n",
    "\n",
    "trajectories = all_traj[idx]\n",
    "\n",
    "r = trajectories['actual_pos']\n",
    "for i in range(r.shape[1]):\n",
    "    plt.plot(r[:,i,0], r[:,i,1], '-', color=f'C{i}', alpha=0.2)\n",
    "plt.plot(r[-1,:,0], r[-1,:,1], 'o', color='black', alpha=0.1)\n",
    "\n",
    "r = trajectories['pred_pos'][15]\n",
    "for i in range(r.shape[1]):\n",
    "    plt.plot(r[:,i,0], r[:,i,1], '-', color=f'C{i}', alpha=1.)\n",
    "plt.plot(r[-1,:,0], r[-1,:,1], 'o', color='black', alpha=1.)\n",
    "\n",
    "plt.gca().set_aspect('equal', adjustable='box')\n",
    "plt.show()"
   ]
  },
  {
   "cell_type": "code",
   "execution_count": null,
   "id": "ad276571",
   "metadata": {},
   "outputs": [],
   "source": [
    "i_err = 1\n",
    "\n",
    "r = trajectories['actual_pos']\n",
    "for i in range(r.shape[1]):\n",
    "    plt.plot(r[:,i,0], r[:,i,1], '-', color=f'C{i}', alpha=0.2)\n",
    "plt.plot(r[-1,:,0], r[-1,:,1], 'o', color='black', alpha=0.1)\n",
    "\n",
    "r = trajectories['pred_pos_avg']\n",
    "for i in range(r.shape[1]):\n",
    "    if i != i_err:\n",
    "        plt.plot(r[:,i,0], r[:,i,1], '-', color=f'C{i}')\n",
    "plt.plot(r[-1,:,0], r[-1,:,1], 'o', color='black')\n",
    "\n",
    "r = trajectories['pred_pos']\n",
    "for t in range(r.shape[1]):\n",
    "    plt.plot(r[:,t,i_err,0], r[:,t,i_err,1], '.', color=f'C{i_err}', markerfacecolor=None, alpha=1. / num_samples)\n",
    "\n",
    "plt.gca().set_aspect('equal', adjustable='box')\n",
    "plt.show()"
   ]
  },
  {
   "cell_type": "code",
   "execution_count": null,
   "id": "215c7f72",
   "metadata": {
    "scrolled": false
   },
   "outputs": [],
   "source": [
    "fig, ax = plt.subplots()\n",
    "\n",
    "# r = trajectories['actual_pos']\n",
    "# traj_actual = [ax.plot(r[:,i,0], r[:,i,1], '-', color=f'C{i}', alpha=0.1)[0] for i in range(r.shape[1])]  \n",
    "# ball_actual, = ax.plot(r[-1,:,0], r[-1,:,1], 'o', color='black', alpha=0.1)\n",
    "\n",
    "r = trajectories['pred_pos_avg']\n",
    "traj_pred = [ax.plot(r[:,i,0], r[:,i,1], '-', color=f'C{i}', alpha=1.)[0] for i in range(r.shape[1])]  \n",
    "ball_pred, = ax.plot(r[-1,:,0], r[-1,:,1], 'o', color='black', alpha=0.5, zorder=5.)\n",
    "\n",
    "r = trajectories['pred_pos']\n",
    "point_cloud = [ax.plot(r[:,0,i,0], r[:,0,i,1], 'o', color=f'C{i}', \n",
    "                       alpha=2. / num_samples, zorder=4., markerfacecolor=None)[0] \n",
    "               for i in range(r.shape[2])]  \n",
    "\n",
    "def gather():\n",
    "#     return traj_actual + [ball_actual] + traj_pred + [ball_pred]\n",
    "    return point_cloud + traj_pred + [ball_pred]\n",
    "\n",
    "def init():\n",
    "    ax.set_aspect('equal', adjustable='box')\n",
    "    return gather()\n",
    "\n",
    "def update(frame):\n",
    "    \n",
    "#     r = trajectories['actual_pos']\n",
    "#     for i in range(r.shape[1]):\n",
    "#         traj_actual[i].set_data(r[:frame,i,0], r[:frame,i,1])\n",
    "#     ball_actual.set_data(r[frame,:,0], r[frame,:,1])\n",
    "\n",
    "    r = trajectories['pred_pos_avg']\n",
    "    for i in range(r.shape[1]):\n",
    "        traj_pred[i].set_data([], [])\n",
    "    ball_pred.set_data(r[frame,:,0], r[frame,:,1])\n",
    "    \n",
    "    r = trajectories['pred_pos']\n",
    "    for i in range(r.shape[2]):\n",
    "        point_cloud[i].set_data(r[:,frame,i,0], r[:,frame,i,1])\n",
    "    \n",
    "    return gather()\n",
    "\n",
    "ani = FuncAnimation(fig, update, frames=tqdm.tnrange(runs), init_func=init, blit=True, interval=10)\n",
    "plt.close(fig)\n",
    "HTML(ani.to_jshtml())"
   ]
  },
  {
   "cell_type": "code",
   "execution_count": null,
   "id": "b5648f29",
   "metadata": {},
   "outputs": [],
   "source": [
    "writergif = PillowWriter(fps=30, bitrate=300) \n",
    "ani.save(f'./demo/nbody-n4-vi-{idx}.mp4', writer=writergif)"
   ]
  },
  {
   "cell_type": "code",
   "execution_count": null,
   "id": "93fff123",
   "metadata": {},
   "outputs": [],
   "source": []
  }
 ],
 "metadata": {
  "kernelspec": {
   "display_name": "Python 3 (ipykernel)",
   "language": "python",
   "name": "python3"
  },
  "language_info": {
   "codemirror_mode": {
    "name": "ipython",
    "version": 3
   },
   "file_extension": ".py",
   "mimetype": "text/x-python",
   "name": "python",
   "nbconvert_exporter": "python",
   "pygments_lexer": "ipython3",
   "version": "3.8.0"
  }
 },
 "nbformat": 4,
 "nbformat_minor": 5
}
