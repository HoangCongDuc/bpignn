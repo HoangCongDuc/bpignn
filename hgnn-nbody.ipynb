{
 "cells": [
  {
   "cell_type": "code",
   "execution_count": 1,
   "id": "d430adab",
   "metadata": {},
   "outputs": [],
   "source": [
    "%load_ext autoreload\n",
    "%autoreload 2"
   ]
  },
  {
   "cell_type": "code",
   "execution_count": 2,
   "id": "065c26cf",
   "metadata": {},
   "outputs": [
    {
     "name": "stdout",
     "output_type": "stream",
     "text": [
      "Jax: CPUs=1 - GPUs=1\n"
     ]
    }
   ],
   "source": [
    "from functools import partial\n",
    "import os\n",
    "import pickle as pkl\n",
    "from collections.abc import MutableMapping\n",
    "import time\n",
    "from typing import Any, Callable, Iterable, Mapping, Optional, Union\n",
    "import json\n",
    "\n",
    "import matplotlib.pyplot as plt\n",
    "import numpy as np\n",
    "import tqdm\n",
    "\n",
    "os.environ[\"CUDA_VISIBLE_DEVICES\"] = \"5\"\n",
    "os.environ[\"DDE_BACKEND\"] = \"jax\"\n",
    "\n",
    "import jax\n",
    "from jax import vmap, lax\n",
    "import jax.numpy as jnp\n",
    "from jax.example_libraries import optimizers\n",
    "\n",
    "import flax\n",
    "from flax import linen as nn\n",
    "import optax\n",
    "from frozendict import frozendict\n",
    "\n",
    "import jraph\n",
    "from jraph._src import graph as gn_graph\n",
    "from jraph._src import utils\n",
    "\n",
    "print(f'Jax: CPUs={jax.local_device_count(\"cpu\")} - GPUs={jax.local_device_count(\"gpu\")}')"
   ]
  },
  {
   "cell_type": "code",
   "execution_count": 3,
   "id": "b15b0422",
   "metadata": {},
   "outputs": [],
   "source": [
    "from hgnn.model import *\n",
    "from hgnn.hamiltonian import *\n",
    "from hgnn.training import *\n",
    "from hgnn.simulating import *"
   ]
  },
  {
   "cell_type": "code",
   "execution_count": null,
   "id": "51c7dcff",
   "metadata": {},
   "outputs": [],
   "source": []
  },
  {
   "cell_type": "code",
   "execution_count": 46,
   "id": "9d10514f",
   "metadata": {},
   "outputs": [
    {
     "name": "stdout",
     "output_type": "stream",
     "text": [
      "N2: 6\n",
      "dim: 2\n",
      "Zs.shape: (146000, 6, 2)\n",
      "Zs_dot.shape: (146000, 6, 2)\n",
      "Zst.shape: (156000, 6, 2)\n",
      "Zst_dot.shape: (156000, 6, 2)\n",
      "Zs_test.shape: (156, 1000, 6, 2)\n",
      "\n",
      "stride: 1\n",
      "dt: 0.1\n",
      "lr: 0.01\n",
      "batch_size: 5000\n",
      "epochs: 2000\n"
     ]
    }
   ],
   "source": [
    "prefix = 'nbody-n3'\n",
    "\n",
    "Zs_train = jnp.load(f'./data/{prefix}/Zs_train.npy')\n",
    "Zs_dot_train = jnp.load(f'./data/{prefix}/Zs_dot_train.npy')\n",
    "Zs_test = jnp.load(f'./data/{prefix}/Zs_test.npy')\n",
    "Zs_dot_test = jnp.load(f'./data/{prefix}/Zs_dot_test.npy')\n",
    "\n",
    "N2, dim = Zs_train.shape[-2:]\n",
    "N = N2 // 2\n",
    "species = jnp.zeros(N, dtype=int)\n",
    "masses = jnp.ones(N)\n",
    "\n",
    "Zs = Zs_train.reshape(-1, N2, dim)\n",
    "Zs_dot = Zs_dot_train.reshape(-1, N2, dim)\n",
    "\n",
    "Zst = Zs_test.reshape(-1, N2, dim)\n",
    "Zst_dot = Zs_dot_test.reshape(-1, N2, dim)\n",
    "\n",
    "print('N2:', N2)\n",
    "print('dim:', dim)\n",
    "print('Zs.shape:', Zs.shape)\n",
    "print('Zs_dot.shape:', Zs_dot.shape)\n",
    "print('Zst.shape:', Zst.shape)\n",
    "print('Zst_dot.shape:', Zst_dot.shape)\n",
    "print('Zs_test.shape:', Zs_test.shape)\n",
    "print()\n",
    "\n",
    "with open(f'./data/{prefix}/param.json', 'r') as f:\n",
    "    d = json.load(f)\n",
    "    stride = d['stride']\n",
    "    dt = d['dt']\n",
    "    lr = d['lr']\n",
    "    batch_size = d['batch_size']\n",
    "    epochs = d['epochs']\n",
    "    \n",
    "print('stride:', stride)\n",
    "print('dt:', dt)\n",
    "print('lr:', lr)\n",
    "print('batch_size:', batch_size)\n",
    "print('epochs:', epochs)"
   ]
  },
  {
   "cell_type": "code",
   "execution_count": null,
   "id": "13730172",
   "metadata": {},
   "outputs": [],
   "source": []
  },
  {
   "cell_type": "code",
   "execution_count": null,
   "id": "9b90671d",
   "metadata": {},
   "outputs": [],
   "source": []
  },
  {
   "cell_type": "code",
   "execution_count": 47,
   "id": "a8517da1",
   "metadata": {},
   "outputs": [],
   "source": [
    "def get_fully_connected_senders_and_receivers(num_particles: int, self_edges: bool = False,):\n",
    "    \"\"\"Returns senders and receivers for fully connected particles.\"\"\"\n",
    "    particle_indices = np.arange(num_particles)\n",
    "    senders, receivers = np.meshgrid(particle_indices, particle_indices)\n",
    "    senders, receivers = senders.flatten(), receivers.flatten()\n",
    "    if not self_edges:\n",
    "        mask = senders != receivers\n",
    "        senders, receivers = senders[mask], receivers[mask]\n",
    "    return senders, receivers\n",
    "\n",
    "def get_fully_edge_order(N):\n",
    "    out = []\n",
    "    for j in range(N):\n",
    "        for i in range(N):\n",
    "            if i == j:\n",
    "                pass\n",
    "            else:\n",
    "                if j > i:\n",
    "                    out += [i*(N-1) + j-1]\n",
    "                else:\n",
    "                    out += [i*(N-1) + j]\n",
    "    return np.array(out)\n",
    "\n",
    "senders, receivers = get_fully_connected_senders_and_receivers(N)\n",
    "eorder = get_fully_edge_order(N)"
   ]
  },
  {
   "cell_type": "code",
   "execution_count": null,
   "id": "bef9fcc5",
   "metadata": {},
   "outputs": [],
   "source": []
  },
  {
   "cell_type": "code",
   "execution_count": 48,
   "id": "771d863e",
   "metadata": {},
   "outputs": [],
   "source": [
    "key = jax.random.PRNGKey(42)\n",
    "\n",
    "Ef = 1  # eij dim\n",
    "Oh = 1\n",
    "\n",
    "Eei = 5\n",
    "Nei = 5\n",
    "\n",
    "hidden = 5\n",
    "nhidden = 2"
   ]
  },
  {
   "cell_type": "code",
   "execution_count": 49,
   "id": "476f9a88",
   "metadata": {},
   "outputs": [],
   "source": [
    "params = generate_HGNN_params(Oh, Nei, Ef, Eei, dim, hidden, nhidden, key)"
   ]
  },
  {
   "cell_type": "code",
   "execution_count": 50,
   "id": "af7fd0dd",
   "metadata": {},
   "outputs": [],
   "source": [
    "R, V = jnp.split(Zs[0], 2, axis=0)\n",
    "\n",
    "apply_fn = energy_fn(senders=senders, receivers=receivers, species=species, R=R, V=V, eorder=eorder)\n",
    "Hmodel = generate_Hmodel(apply_fn)\n",
    "\n",
    "zdot_model, lamda_force_model = get_zdot_lambda(\n",
    "    N, dim, hamiltonian=Hmodel, drag=None, \n",
    "    constraints=None, \n",
    "    external_force=None)\n",
    "\n",
    "\n",
    "v_zdot_model = vmap(zdot_model, in_axes=(0, 0, None))"
   ]
  },
  {
   "cell_type": "code",
   "execution_count": null,
   "id": "9238852f",
   "metadata": {},
   "outputs": [],
   "source": []
  },
  {
   "cell_type": "code",
   "execution_count": 51,
   "id": "11538cd4",
   "metadata": {
    "scrolled": false
   },
   "outputs": [
    {
     "name": "stdout",
     "output_type": "stream",
     "text": [
      "Training ...\n"
     ]
    },
    {
     "name": "stderr",
     "output_type": "stream",
     "text": [
      "/tmp/ipykernel_383141/2977881841.py:31: TqdmDeprecationWarning: Please use `tqdm.notebook.trange` instead of `tqdm.tnrange`\n",
      "  for epoch in tqdm.tnrange(epochs):\n"
     ]
    },
    {
     "data": {
      "application/json": {
       "ascii": false,
       "bar_format": null,
       "colour": null,
       "elapsed": 0.011564970016479492,
       "initial": 0,
       "n": 0,
       "ncols": null,
       "nrows": 31,
       "postfix": null,
       "prefix": "",
       "rate": null,
       "total": 2000,
       "unit": "it",
       "unit_divisor": 1000,
       "unit_scale": false
      },
      "application/vnd.jupyter.widget-view+json": {
       "model_id": "4fef6baa184d4192a31cdbb0014b1b66",
       "version_major": 2,
       "version_minor": 0
      },
      "text/plain": [
       "  0%|          | 0/2000 [00:00<?, ?it/s]"
      ]
     },
     "metadata": {},
     "output_type": "display_data"
    },
    {
     "name": "stdout",
     "output_type": "stream",
     "text": [
      "Epoch: 100/2000 Loss (MSE):  train=0.019022800028324127, test=0.015858856961131096\n",
      "Epoch: 200/2000 Loss (MSE):  train=0.01014898344874382, test=0.00974275916814804\n",
      "Epoch: 300/2000 Loss (MSE):  train=0.009349309839308262, test=0.00922863744199276\n",
      "Epoch: 400/2000 Loss (MSE):  train=0.008944126777350903, test=0.008917592465877533\n",
      "Epoch: 500/2000 Loss (MSE):  train=0.008758960291743279, test=0.008748210035264492\n",
      "Epoch: 600/2000 Loss (MSE):  train=0.00856078416109085, test=0.008601962588727474\n",
      "Epoch: 700/2000 Loss (MSE):  train=0.008381770923733711, test=0.008319402113556862\n",
      "Epoch: 800/2000 Loss (MSE):  train=0.008147199638187885, test=0.008073090575635433\n",
      "Epoch: 900/2000 Loss (MSE):  train=0.008089960552752018, test=0.007943923585116863\n",
      "Epoch: 1000/2000 Loss (MSE):  train=0.007904408499598503, test=0.007847639732062817\n",
      "Epoch: 1100/2000 Loss (MSE):  train=0.007783934939652681, test=0.007743251975625753\n",
      "Epoch: 1200/2000 Loss (MSE):  train=0.007715824991464615, test=0.007703355513513088\n",
      "Epoch: 1300/2000 Loss (MSE):  train=0.007693260908126831, test=0.007693729363381863\n",
      "Epoch: 1400/2000 Loss (MSE):  train=0.007684937212616205, test=0.007692535873502493\n",
      "Epoch: 1500/2000 Loss (MSE):  train=0.0076819960959255695, test=0.007693015970289707\n",
      "Epoch: 1600/2000 Loss (MSE):  train=0.007676608394831419, test=0.007692934479564428\n",
      "Epoch: 1700/2000 Loss (MSE):  train=0.007672230247408152, test=0.00769188953563571\n",
      "Epoch: 1800/2000 Loss (MSE):  train=0.007670800667256117, test=0.007691740989685059\n",
      "Epoch: 1900/2000 Loss (MSE):  train=0.007669676560908556, test=0.007692423183470964\n",
      "Epoch: 2000/2000 Loss (MSE):  train=0.007666586898267269, test=0.007692630402743816\n"
     ]
    },
    {
     "data": {
      "text/plain": [
       "<matplotlib.legend.Legend at 0x7fe81861e700>"
      ]
     },
     "execution_count": 51,
     "metadata": {},
     "output_type": "execute_result"
    },
    {
     "data": {
      "image/png": "[encoded data removed]",
      "text/plain": [
       "<Figure size 640x480 with 1 Axes>"
      ]
     },
     "metadata": {},
     "output_type": "display_data"
    }
   ],
   "source": [
    "loss_fn = generate_loss_fn(v_zdot_model=v_zdot_model)\n",
    "gloss = generate_gloss(loss_fn=loss_fn)\n",
    "\n",
    "opt_init, opt_update_, get_params = optimizers.adam(lr)\n",
    "\n",
    "opt_update = generate_opt_update_wrapper(opt_update_=opt_update_)\n",
    "\n",
    "step = generate_update_fn(gloss=gloss, opt_update=opt_update, get_params=get_params)\n",
    "\n",
    "Rs, Vs = jnp.split(Zs, 2, axis=1)\n",
    "Rst, Vst = jnp.split(Zst, 2, axis=1)\n",
    "\n",
    "bRs, bVs, bZs_dot = batching(Rs, Vs, Zs_dot,\n",
    "                            size=min(len(Rs), batch_size))\n",
    "\n",
    "print(f\"Training ...\")\n",
    "\n",
    "# opt_state = optimiser.init(params)\n",
    "opt_state = opt_init(params)\n",
    "\n",
    "epoch = 0\n",
    "optimizer_step = -1\n",
    "larray = []\n",
    "ltarray = []\n",
    "\n",
    "start = time.time()\n",
    "train_time_arr = []\n",
    "\n",
    "last_loss = 1000\n",
    "\n",
    "for epoch in tqdm.tnrange(epochs):\n",
    "    l = 0.0\n",
    "    for data in zip(bRs, bVs, bZs_dot):\n",
    "        optimizer_step += 1\n",
    "        opt_state, params, l_ = step(optimizer_step, (opt_state, params, 0), *data)\n",
    "        l += l_\n",
    "    l = l/len(bRs)\n",
    "    if (epoch + 1) % (epochs // 20) == 0:\n",
    "        # opt_state, params, l = step(\n",
    "        #     optimizer_step, (opt_state, params, 0), Rs, Vs, Zs_dot)\n",
    "        larray += [l]\n",
    "        ltarray += [loss_fn(params, Rst, Vst, Zst_dot)]\n",
    "        print(f\"Epoch: {epoch + 1}/{epochs} Loss (MSE):  train={larray[-1]}, test={ltarray[-1]}\")\n",
    "\n",
    "    now = time.time()\n",
    "    train_time_arr.append((now - start))\n",
    "    \n",
    "params = get_params(opt_state)\n",
    "\n",
    "fig, axs = plt.subplots(1, 1)\n",
    "plt.semilogy(larray, label=\"Training\")\n",
    "plt.semilogy(ltarray, label=\"Test\")\n",
    "plt.xlabel(\"Epoch\")\n",
    "plt.ylabel(\"Loss\")\n",
    "plt.legend()"
   ]
  },
  {
   "cell_type": "code",
   "execution_count": null,
   "id": "3862b2b9",
   "metadata": {},
   "outputs": [],
   "source": []
  },
  {
   "cell_type": "code",
   "execution_count": null,
   "id": "48f9931c",
   "metadata": {},
   "outputs": [],
   "source": []
  },
  {
   "cell_type": "code",
   "execution_count": 52,
   "id": "d539e851",
   "metadata": {
    "scrolled": false
   },
   "outputs": [
    {
     "name": "stderr",
     "output_type": "stream",
     "text": [
      "/tmp/ipykernel_383141/3968432534.py:8: TqdmDeprecationWarning: Please use `tqdm.notebook.trange` instead of `tqdm.tnrange`\n",
      "  for ind in tqdm.tnrange(maxtraj):\n"
     ]
    },
    {
     "data": {
      "application/json": {
       "ascii": false,
       "bar_format": null,
       "colour": null,
       "elapsed": 0.015311717987060547,
       "initial": 0,
       "n": 0,
       "ncols": null,
       "nrows": 31,
       "postfix": null,
       "prefix": "",
       "rate": null,
       "total": 20,
       "unit": "it",
       "unit_divisor": 1000,
       "unit_scale": false
      },
      "application/vnd.jupyter.widget-view+json": {
       "model_id": "a81e7b4969f84f458fd1ba7ded0da468",
       "version_major": 2,
       "version_minor": 0
      },
      "text/plain": [
       "  0%|          | 0/20 [00:00<?, ?it/s]"
      ]
     },
     "metadata": {},
     "output_type": "display_data"
    },
    {
     "ename": "KeyboardInterrupt",
     "evalue": "",
     "output_type": "error",
     "traceback": [
      "\u001b[0;31m---------------------------------------------------------------------------\u001b[0m",
      "\u001b[0;31mKeyboardInterrupt\u001b[0m                         Traceback (most recent call last)",
      "Cell \u001b[0;32mIn [52], line 15\u001b[0m\n\u001b[1;32m     13\u001b[0m R \u001b[38;5;241m=\u001b[39m Zs_test[ind, \u001b[38;5;241m0\u001b[39m, :N]\n\u001b[1;32m     14\u001b[0m V \u001b[38;5;241m=\u001b[39m Zs_test[ind, \u001b[38;5;241m0\u001b[39m, N:]\n\u001b[0;32m---> 15\u001b[0m z_pred_out \u001b[38;5;241m=\u001b[39m \u001b[43msim_model\u001b[49m\u001b[43m(\u001b[49m\u001b[43mR\u001b[49m\u001b[43m,\u001b[49m\u001b[43m \u001b[49m\u001b[43mV\u001b[49m\u001b[43m)\u001b[49m\n\u001b[1;32m     16\u001b[0m x_pred_out, p_pred_out \u001b[38;5;241m=\u001b[39m jnp\u001b[38;5;241m.\u001b[39msplit(z_pred_out, \u001b[38;5;241m2\u001b[39m, axis\u001b[38;5;241m=\u001b[39m\u001b[38;5;241m1\u001b[39m)\n\u001b[1;32m     18\u001b[0m \u001b[38;5;28;01mwith\u001b[39;00m jax\u001b[38;5;241m.\u001b[39mdefault_device(jax\u001b[38;5;241m.\u001b[39mdevices(\u001b[38;5;124m'\u001b[39m\u001b[38;5;124mcpu\u001b[39m\u001b[38;5;124m'\u001b[39m)[\u001b[38;5;241m0\u001b[39m]):\n",
      "File \u001b[0;32m/nfs_home/apivich/pinn/bpignn-cleaned/hgnn/simulating.py:27\u001b[0m, in \u001b[0;36mget_forward_sim.<locals>.fn\u001b[0;34m(R, V)\u001b[0m\n\u001b[1;32m     25\u001b[0m \u001b[38;5;28;01mdef\u001b[39;00m \u001b[38;5;21mfn\u001b[39m(R, V):\n\u001b[1;32m     26\u001b[0m     t \u001b[38;5;241m=\u001b[39m jnp\u001b[38;5;241m.\u001b[39mlinspace(\u001b[38;5;241m0.0\u001b[39m, runs\u001b[38;5;241m*\u001b[39mstride\u001b[38;5;241m*\u001b[39mdt, runs\u001b[38;5;241m*\u001b[39mstride)\n\u001b[0;32m---> 27\u001b[0m     _z_out \u001b[38;5;241m=\u001b[39m \u001b[43mode\u001b[49m\u001b[38;5;241;43m.\u001b[39;49m\u001b[43modeint\u001b[49m\u001b[43m(\u001b[49m\u001b[43mzdot_model_func\u001b[49m\u001b[43m,\u001b[49m\u001b[43m \u001b[49m\u001b[43mz0\u001b[49m\u001b[43m(\u001b[49m\u001b[43mR\u001b[49m\u001b[43m,\u001b[49m\u001b[43m \u001b[49m\u001b[43mV\u001b[49m\u001b[43m)\u001b[49m\u001b[43m,\u001b[49m\u001b[43m \u001b[49m\u001b[43mt\u001b[49m\u001b[43m,\u001b[49m\u001b[43m \u001b[49m\u001b[43mparams\u001b[49m\u001b[43m)\u001b[49m\n\u001b[1;32m     28\u001b[0m     \u001b[38;5;28;01mreturn\u001b[39;00m _z_out[\u001b[38;5;241m0\u001b[39m::stride]\n",
      "File \u001b[0;32m~/maplecg_nfs/anaconda3/envs/ntk/lib/python3.8/site-packages/jax/experimental/ode.py:179\u001b[0m, in \u001b[0;36modeint\u001b[0;34m(func, y0, t, rtol, atol, mxstep, hmax, *args)\u001b[0m\n\u001b[1;32m    176\u001b[0m   \u001b[38;5;28;01mraise\u001b[39;00m \u001b[38;5;167;01mTypeError\u001b[39;00m(\u001b[38;5;124mf\u001b[39m\u001b[38;5;124m\"\u001b[39m\u001b[38;5;124mt must be an array of floats, but got \u001b[39m\u001b[38;5;132;01m{\u001b[39;00mt\u001b[38;5;132;01m}\u001b[39;00m\u001b[38;5;124m.\u001b[39m\u001b[38;5;124m\"\u001b[39m)\n\u001b[1;32m    178\u001b[0m converted, consts \u001b[38;5;241m=\u001b[39m custom_derivatives\u001b[38;5;241m.\u001b[39mclosure_convert(func, y0, t[\u001b[38;5;241m0\u001b[39m], \u001b[38;5;241m*\u001b[39margs)\n\u001b[0;32m--> 179\u001b[0m \u001b[38;5;28;01mreturn\u001b[39;00m \u001b[43m_odeint_wrapper\u001b[49m\u001b[43m(\u001b[49m\u001b[43mconverted\u001b[49m\u001b[43m,\u001b[49m\u001b[43m \u001b[49m\u001b[43mrtol\u001b[49m\u001b[43m,\u001b[49m\u001b[43m \u001b[49m\u001b[43matol\u001b[49m\u001b[43m,\u001b[49m\u001b[43m \u001b[49m\u001b[43mmxstep\u001b[49m\u001b[43m,\u001b[49m\u001b[43m \u001b[49m\u001b[43mhmax\u001b[49m\u001b[43m,\u001b[49m\u001b[43m \u001b[49m\u001b[43my0\u001b[49m\u001b[43m,\u001b[49m\u001b[43m \u001b[49m\u001b[43mt\u001b[49m\u001b[43m,\u001b[49m\u001b[43m \u001b[49m\u001b[38;5;241;43m*\u001b[39;49m\u001b[43margs\u001b[49m\u001b[43m,\u001b[49m\u001b[43m \u001b[49m\u001b[38;5;241;43m*\u001b[39;49m\u001b[43mconsts\u001b[49m\u001b[43m)\u001b[49m\n",
      "\u001b[0;31mKeyboardInterrupt\u001b[0m: "
     ]
    }
   ],
   "source": [
    "runs = Zs_test.shape[1]\n",
    "maxtraj = Zs_test.shape[0]\n",
    "\n",
    "sim_model = get_forward_sim(params=params, zdot_model=zdot_model, runs=runs, stride=stride, dt=dt)\n",
    "\n",
    "trajectories = []\n",
    "\n",
    "for ind in tqdm.tnrange(maxtraj):\n",
    "    \n",
    "    z_actual_out = Zs_test[ind]\n",
    "    x_act_out, p_act_out = jnp.split(z_actual_out, 2, axis=1)\n",
    "\n",
    "    R = Zs_test[ind, 0, :N]\n",
    "    V = Zs_test[ind, 0, N:]\n",
    "    z_pred_out = sim_model(R, V)\n",
    "    x_pred_out, p_pred_out = jnp.split(z_pred_out, 2, axis=1)\n",
    "\n",
    "    with jax.default_device(jax.devices('cpu')[0]):\n",
    "        trajectories.append({\n",
    "            'pred_pos': x_pred_out,\n",
    "            'pred_vel': p_pred_out,\n",
    "            'actual_pos': x_act_out,\n",
    "            'actual_vel': p_act_out,\n",
    "        })"
   ]
  },
  {
   "cell_type": "code",
   "execution_count": 56,
   "id": "ad276571",
   "metadata": {},
   "outputs": [
    {
     "data": {
      "image/png": "[encoded data removed]",
      "text/plain": [
       "<Figure size 640x480 with 1 Axes>"
      ]
     },
     "metadata": {},
     "output_type": "display_data"
    }
   ],
   "source": [
    "idx = 2\n",
    "\n",
    "r = trajectories[idx]['actual_pos']\n",
    "\n",
    "for i in range(r.shape[1]):\n",
    "    plt.plot(r[:,i,0], r[:,i,1], '-', color=f'C{i}', alpha=0.2)\n",
    "    \n",
    "plt.plot(r[-1,:,0], r[-1,:,1], 'o', color='black', alpha=0.1)\n",
    "# plt.gca().set_aspect('equal', adjustable='box')\n",
    "# plt.show()\n",
    "\n",
    "r = trajectories[idx]['pred_pos']\n",
    "\n",
    "for i in range(r.shape[1]):\n",
    "    plt.plot(r[:,i,0], r[:,i,1], '-', color=f'C{i}')\n",
    "    \n",
    "plt.plot(r[-1,:,0], r[-1,:,1], 'o', color='black')\n",
    "plt.gca().set_aspect('equal', adjustable='box')\n",
    "plt.show()"
   ]
  },
  {
   "cell_type": "code",
   "execution_count": null,
   "id": "c9a16866",
   "metadata": {},
   "outputs": [],
   "source": []
  },
  {
   "cell_type": "code",
   "execution_count": null,
   "id": "0d8e4f96",
   "metadata": {
    "scrolled": false
   },
   "outputs": [],
   "source": [
    "R = 5. * jnp.array(np.random.rand(4, 3))\n",
    "V = jnp.zeros(shape=(4, 3))\n",
    "\n",
    "# apply_fn = energy_fn(senders=senders, receivers=receivers, species=species, R=R, V=V, eorder=eorder)\n",
    "# Hmodel = generate_Hmodel(apply_fn)\n",
    "\n",
    "# zdot_model, lamda_force_model = get_zdot_lambda(\n",
    "#     N, dim, hamiltonian=Hmodel, drag=None, \n",
    "#     constraints=None, \n",
    "#     external_force=None)\n",
    "# sim_model = get_forward_sim(params=params, zdot_model=zdot_model, runs=runs, stride=stride, dt=dt)\n",
    "\n",
    "z_pred_out = sim_model(R, V)\n",
    "x_pred_out, p_pred_out = jnp.split(z_pred_out, 2, axis=1)\n",
    "\n",
    "for i in range(x_pred_out.shape[1]):\n",
    "    plt.plot(x_pred_out[:,i,0], x_pred_out[:,i,1], '-')\n",
    "    \n",
    "plt.plot(x_pred_out[0,:,0], x_pred_out[0,:,1], 'o', color='black')\n",
    "plt.gca().set_aspect('equal', adjustable='box')\n",
    "plt.show()"
   ]
  },
  {
   "cell_type": "code",
   "execution_count": null,
   "id": "96885c2e",
   "metadata": {},
   "outputs": [],
   "source": []
  },
  {
   "cell_type": "code",
   "execution_count": null,
   "id": "fa0393d5",
   "metadata": {},
   "outputs": [],
   "source": []
  }
 ],
 "metadata": {
  "kernelspec": {
   "display_name": "Python 3 (ipykernel)",
   "language": "python",
   "name": "python3"
  },
  "language_info": {
   "codemirror_mode": {
    "name": "ipython",
    "version": 3
   },
   "file_extension": ".py",
   "mimetype": "text/x-python",
   "name": "python",
   "nbconvert_exporter": "python",
   "pygments_lexer": "ipython3",
   "version": "3.8.0"
  }
 },
 "nbformat": 4,
 "nbformat_minor": 5
}
