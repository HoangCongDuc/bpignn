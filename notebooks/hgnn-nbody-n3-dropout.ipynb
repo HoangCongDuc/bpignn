{
 "cells": [
  {
   "cell_type": "code",
   "execution_count": 1,
   "id": "d430adab",
   "metadata": {},
   "outputs": [],
   "source": [
    "%load_ext autoreload\n",
    "%autoreload 2"
   ]
  },
  {
   "cell_type": "code",
   "execution_count": 2,
   "id": "065c26cf",
   "metadata": {},
   "outputs": [
    {
     "name": "stderr",
     "output_type": "stream",
     "text": [
      "/home/apivich/maplecg_nfs/anaconda3/envs/ntk/lib/python3.8/site-packages/flax/struct.py:136: FutureWarning: jax.tree_util.register_keypaths is deprecated, and will be removed in a future release. Please use `register_pytree_with_keys()` instead.\n",
      "  jax.tree_util.register_keypaths(data_clz, keypaths)\n",
      "/home/apivich/maplecg_nfs/anaconda3/envs/ntk/lib/python3.8/site-packages/flax/struct.py:136: FutureWarning: jax.tree_util.register_keypaths is deprecated, and will be removed in a future release. Please use `register_pytree_with_keys()` instead.\n",
      "  jax.tree_util.register_keypaths(data_clz, keypaths)\n",
      "2023-04-17 06:09:19.696803: E external/xla/xla/stream_executor/cuda/cuda_driver.cc:268] failed call to cuInit: CUDA_ERROR_NO_DEVICE: no CUDA-capable device is detected\n",
      "No GPU/TPU found, falling back to CPU. (Set TF_CPP_MIN_LOG_LEVEL=0 and rerun for more info.)\n"
     ]
    },
    {
     "ename": "RuntimeError",
     "evalue": "Unknown backend: 'gpu' requested, but no platforms that are instances of gpu are present. Platforms present are: interpreter,cpu",
     "output_type": "error",
     "traceback": [
      "\u001b[0;31m---------------------------------------------------------------------------\u001b[0m",
      "\u001b[0;31mRuntimeError\u001b[0m                              Traceback (most recent call last)",
      "Cell \u001b[0;32mIn [2], line 31\u001b[0m\n\u001b[1;32m     28\u001b[0m \u001b[38;5;28;01mfrom\u001b[39;00m \u001b[38;5;21;01mjraph\u001b[39;00m\u001b[38;5;21;01m.\u001b[39;00m\u001b[38;5;21;01m_src\u001b[39;00m \u001b[38;5;28;01mimport\u001b[39;00m graph \u001b[38;5;28;01mas\u001b[39;00m gn_graph\n\u001b[1;32m     29\u001b[0m \u001b[38;5;28;01mfrom\u001b[39;00m \u001b[38;5;21;01mjraph\u001b[39;00m\u001b[38;5;21;01m.\u001b[39;00m\u001b[38;5;21;01m_src\u001b[39;00m \u001b[38;5;28;01mimport\u001b[39;00m utils\n\u001b[0;32m---> 31\u001b[0m \u001b[38;5;28mprint\u001b[39m(\u001b[38;5;124mf\u001b[39m\u001b[38;5;124m'\u001b[39m\u001b[38;5;124mJax: CPUs=\u001b[39m\u001b[38;5;132;01m{\u001b[39;00mjax\u001b[38;5;241m.\u001b[39mlocal_device_count(\u001b[38;5;124m\"\u001b[39m\u001b[38;5;124mcpu\u001b[39m\u001b[38;5;124m\"\u001b[39m)\u001b[38;5;132;01m}\u001b[39;00m\u001b[38;5;124m - GPUs=\u001b[39m\u001b[38;5;132;01m{\u001b[39;00mjax\u001b[38;5;241m.\u001b[39mlocal_device_count(\u001b[38;5;124m\"\u001b[39m\u001b[38;5;124mgpu\u001b[39m\u001b[38;5;124m\"\u001b[39m)\u001b[38;5;132;01m}\u001b[39;00m\u001b[38;5;124m'\u001b[39m)\n",
      "File \u001b[0;32m~/maplecg_nfs/anaconda3/envs/ntk/lib/python3.8/site-packages/jax/_src/xla_bridge.py:564\u001b[0m, in \u001b[0;36mlocal_device_count\u001b[0;34m(backend)\u001b[0m\n\u001b[1;32m    560\u001b[0m \u001b[38;5;28;01mdef\u001b[39;00m \u001b[38;5;21mlocal_device_count\u001b[39m(\n\u001b[1;32m    561\u001b[0m     backend: Optional[Union[\u001b[38;5;28mstr\u001b[39m, xla_client\u001b[38;5;241m.\u001b[39mClient]] \u001b[38;5;241m=\u001b[39m \u001b[38;5;28;01mNone\u001b[39;00m\n\u001b[1;32m    562\u001b[0m ) \u001b[38;5;241m-\u001b[39m\u001b[38;5;241m>\u001b[39m \u001b[38;5;28mint\u001b[39m:\n\u001b[1;32m    563\u001b[0m   \u001b[38;5;124;03m\"\"\"Returns the number of devices addressable by this process.\"\"\"\u001b[39;00m\n\u001b[0;32m--> 564\u001b[0m   \u001b[38;5;28;01mreturn\u001b[39;00m \u001b[38;5;28mint\u001b[39m(\u001b[43mget_backend\u001b[49m\u001b[43m(\u001b[49m\u001b[43mbackend\u001b[49m\u001b[43m)\u001b[49m\u001b[38;5;241m.\u001b[39mlocal_device_count())\n",
      "File \u001b[0;32m~/maplecg_nfs/anaconda3/envs/ntk/lib/python3.8/site-packages/jax/_src/xla_bridge.py:526\u001b[0m, in \u001b[0;36mget_backend\u001b[0;34m(platform)\u001b[0m\n\u001b[1;32m    522\u001b[0m \u001b[38;5;129m@lru_cache\u001b[39m(maxsize\u001b[38;5;241m=\u001b[39m\u001b[38;5;28;01mNone\u001b[39;00m)  \u001b[38;5;66;03m# don't use util.memoize because there is no X64 dependence.\u001b[39;00m\n\u001b[1;32m    523\u001b[0m \u001b[38;5;28;01mdef\u001b[39;00m \u001b[38;5;21mget_backend\u001b[39m(\n\u001b[1;32m    524\u001b[0m     platform: Union[\u001b[38;5;28;01mNone\u001b[39;00m, \u001b[38;5;28mstr\u001b[39m, xla_client\u001b[38;5;241m.\u001b[39mClient] \u001b[38;5;241m=\u001b[39m \u001b[38;5;28;01mNone\u001b[39;00m\n\u001b[1;32m    525\u001b[0m ) \u001b[38;5;241m-\u001b[39m\u001b[38;5;241m>\u001b[39m xla_client\u001b[38;5;241m.\u001b[39mClient:\n\u001b[0;32m--> 526\u001b[0m   \u001b[38;5;28;01mreturn\u001b[39;00m \u001b[43m_get_backend_uncached\u001b[49m\u001b[43m(\u001b[49m\u001b[43mplatform\u001b[49m\u001b[43m)\u001b[49m\n",
      "File \u001b[0;32m~/maplecg_nfs/anaconda3/envs/ntk/lib/python3.8/site-packages/jax/_src/xla_bridge.py:509\u001b[0m, in \u001b[0;36m_get_backend_uncached\u001b[0;34m(platform)\u001b[0m\n\u001b[1;32m    507\u001b[0m bs \u001b[38;5;241m=\u001b[39m backends()\n\u001b[1;32m    508\u001b[0m \u001b[38;5;28;01mif\u001b[39;00m platform \u001b[38;5;129;01mis\u001b[39;00m \u001b[38;5;129;01mnot\u001b[39;00m \u001b[38;5;28;01mNone\u001b[39;00m:\n\u001b[0;32m--> 509\u001b[0m   platform \u001b[38;5;241m=\u001b[39m \u001b[43mcanonicalize_platform\u001b[49m\u001b[43m(\u001b[49m\u001b[43mplatform\u001b[49m\u001b[43m)\u001b[49m\n\u001b[1;32m    510\u001b[0m   backend \u001b[38;5;241m=\u001b[39m bs\u001b[38;5;241m.\u001b[39mget(platform, \u001b[38;5;28;01mNone\u001b[39;00m)\n\u001b[1;32m    511\u001b[0m   \u001b[38;5;28;01mif\u001b[39;00m backend \u001b[38;5;129;01mis\u001b[39;00m \u001b[38;5;28;01mNone\u001b[39;00m:\n",
      "File \u001b[0;32m~/maplecg_nfs/anaconda3/envs/ntk/lib/python3.8/site-packages/jax/_src/xla_bridge.py:389\u001b[0m, in \u001b[0;36mcanonicalize_platform\u001b[0;34m(platform)\u001b[0m\n\u001b[1;32m    387\u001b[0m   \u001b[38;5;28;01mif\u001b[39;00m p \u001b[38;5;129;01min\u001b[39;00m b\u001b[38;5;241m.\u001b[39mkeys():\n\u001b[1;32m    388\u001b[0m     \u001b[38;5;28;01mreturn\u001b[39;00m p\n\u001b[0;32m--> 389\u001b[0m \u001b[38;5;28;01mraise\u001b[39;00m \u001b[38;5;167;01mRuntimeError\u001b[39;00m(\u001b[38;5;124mf\u001b[39m\u001b[38;5;124m\"\u001b[39m\u001b[38;5;124mUnknown backend: \u001b[39m\u001b[38;5;124m'\u001b[39m\u001b[38;5;132;01m{\u001b[39;00mplatform\u001b[38;5;132;01m}\u001b[39;00m\u001b[38;5;124m'\u001b[39m\u001b[38;5;124m requested, but no \u001b[39m\u001b[38;5;124m\"\u001b[39m\n\u001b[1;32m    390\u001b[0m                    \u001b[38;5;124mf\u001b[39m\u001b[38;5;124m\"\u001b[39m\u001b[38;5;124mplatforms that are instances of \u001b[39m\u001b[38;5;132;01m{\u001b[39;00mplatform\u001b[38;5;132;01m}\u001b[39;00m\u001b[38;5;124m are present. \u001b[39m\u001b[38;5;124m\"\u001b[39m\n\u001b[1;32m    391\u001b[0m                    \u001b[38;5;124m\"\u001b[39m\u001b[38;5;124mPlatforms present are: \u001b[39m\u001b[38;5;124m\"\u001b[39m \u001b[38;5;241m+\u001b[39m \u001b[38;5;124m\"\u001b[39m\u001b[38;5;124m,\u001b[39m\u001b[38;5;124m\"\u001b[39m\u001b[38;5;241m.\u001b[39mjoin(b\u001b[38;5;241m.\u001b[39mkeys()))\n",
      "\u001b[0;31mRuntimeError\u001b[0m: Unknown backend: 'gpu' requested, but no platforms that are instances of gpu are present. Platforms present are: interpreter,cpu"
     ]
    }
   ],
   "source": [
    "from functools import partial\n",
    "import os\n",
    "import pickle as pkl\n",
    "from collections.abc import MutableMapping\n",
    "import time\n",
    "from typing import Any, Callable, Iterable, Mapping, Optional, Union\n",
    "import json\n",
    "\n",
    "import matplotlib.pyplot as plt\n",
    "from matplotlib.animation import FuncAnimation, PillowWriter\n",
    "import numpy as np\n",
    "import tqdm\n",
    "from IPython.display import HTML\n",
    "\n",
    "os.environ[\"CUDA_VISIBLE_DEVICES\"] = \"\"\n",
    "\n",
    "import jax\n",
    "from jax import vmap, lax\n",
    "import jax.numpy as jnp\n",
    "from jax.example_libraries import optimizers\n",
    "\n",
    "import flax\n",
    "from flax import linen as nn\n",
    "import optax\n",
    "from frozendict import frozendict\n",
    "\n",
    "import jraph\n",
    "from jraph._src import graph as gn_graph\n",
    "from jraph._src import utils\n",
    "\n",
    "print(f'Jax: CPUs={jax.local_device_count(\"cpu\")} - GPUs={jax.local_device_count(\"gpu\")}')"
   ]
  },
  {
   "cell_type": "code",
   "execution_count": 3,
   "id": "b15b0422",
   "metadata": {},
   "outputs": [],
   "source": [
    "from hgnn.noisify import add_noise_and_truncate\n",
    "from hgnn.model import *\n",
    "from hgnn.hamiltonian import *\n",
    "from hgnn.training import *\n",
    "from hgnn.simulating import *"
   ]
  },
  {
   "cell_type": "code",
   "execution_count": null,
   "id": "51c7dcff",
   "metadata": {},
   "outputs": [],
   "source": []
  },
  {
   "cell_type": "code",
   "execution_count": 30,
   "id": "9d10514f",
   "metadata": {},
   "outputs": [],
   "source": [
    "prefix = 'nbody-n3'\n",
    "noise_scale = 0.\n",
    "truncate_decimal = 10\n",
    "\n",
    "Zs_train = jnp.load(f'./data/{prefix}/Zs_train.npy')\n",
    "Zs_dot_train = jnp.load(f'./data/{prefix}/Zs_dot_train.npy')\n",
    "Zs_test = jnp.load(f'./data/{prefix}/Zs_test.npy')\n",
    "Zs_dot_test = jnp.load(f'./data/{prefix}/Zs_dot_test.npy')\n",
    "\n",
    "Zs_train, Zs_dot_train = add_noise_and_truncate(Zs_train, Zs_dot_train, \n",
    "                                                scale=noise_scale, \n",
    "                                                decimals=truncate_decimal)\n",
    "Zs_test, Zs_dot_test = add_noise_and_truncate(Zs_test, Zs_dot_test, scale=0.05, decimals=1)\n",
    "\n",
    "N2, dim = Zs_train.shape[-2:]\n",
    "N = N2 // 2\n",
    "species = jnp.zeros(N, dtype=int)\n",
    "masses = jnp.ones(N)\n",
    "\n",
    "Zs = Zs_train.reshape(-1, N2, dim)\n",
    "Zs_dot = Zs_dot_train.reshape(-1, N2, dim)\n",
    "\n",
    "Zst = Zs_test.reshape(-1, N2, dim)\n",
    "Zst_dot = Zs_dot_test.reshape(-1, N2, dim)\n",
    "\n",
    "print('N2:', N2)\n",
    "print('dim:', dim)\n",
    "print('Zs.shape:', Zs.shape)\n",
    "print('Zs_dot.shape:', Zs_dot.shape)\n",
    "print('Zst.shape:', Zst.shape)\n",
    "print('Zst_dot.shape:', Zst_dot.shape)\n",
    "print('Zs_test.shape:', Zs_test.shape)\n",
    "print()\n",
    "\n",
    "with open(f'./data/{prefix}/param.json', 'r') as f:\n",
    "    d = json.load(f)\n",
    "    stride = d['stride']\n",
    "    dt = d['dt']\n",
    "    lr = d['lr']\n",
    "    batch_size = d['batch_size']\n",
    "    epochs = d['epochs']\n",
    "    \n",
    "print('stride:', stride)\n",
    "print('dt:', dt)\n",
    "print('lr:', lr)\n",
    "print('batch_size:', batch_size)\n",
    "print('epochs:', epochs)"
   ]
  },
  {
   "cell_type": "code",
   "execution_count": null,
   "id": "9b90671d",
   "metadata": {},
   "outputs": [],
   "source": []
  },
  {
   "cell_type": "code",
   "execution_count": 5,
   "id": "a8517da1",
   "metadata": {},
   "outputs": [],
   "source": [
    "def get_fully_connected_senders_and_receivers(num_particles: int, self_edges: bool = False):\n",
    "    \"\"\"Returns senders and receivers for fully connected particles.\"\"\"\n",
    "    particle_indices = np.arange(num_particles)\n",
    "    senders, receivers = np.meshgrid(particle_indices, particle_indices)\n",
    "    senders, receivers = senders.flatten(), receivers.flatten()\n",
    "    if not self_edges:\n",
    "        mask = senders != receivers\n",
    "        senders, receivers = senders[mask], receivers[mask]\n",
    "    return senders, receivers\n",
    "\n",
    "def get_fully_edge_order(N):\n",
    "    out = []\n",
    "    for j in range(N):\n",
    "        for i in range(N):\n",
    "            if i == j:\n",
    "                pass\n",
    "            else:\n",
    "                if j > i:\n",
    "                    out += [i*(N-1) + j-1]\n",
    "                else:\n",
    "                    out += [i*(N-1) + j]\n",
    "    return np.array(out)\n",
    "\n",
    "senders, receivers = get_fully_connected_senders_and_receivers(N)\n",
    "eorder = get_fully_edge_order(N)"
   ]
  },
  {
   "cell_type": "code",
   "execution_count": null,
   "id": "bef9fcc5",
   "metadata": {},
   "outputs": [],
   "source": []
  },
  {
   "cell_type": "code",
   "execution_count": 6,
   "id": "771d863e",
   "metadata": {},
   "outputs": [],
   "source": [
    "key = jax.random.PRNGKey(42)\n",
    "\n",
    "Ef = 1  # eij dim\n",
    "Oh = 1\n",
    "\n",
    "Eei = 5\n",
    "Nei = 5\n",
    "\n",
    "hidden = 5\n",
    "nhidden = 2"
   ]
  },
  {
   "cell_type": "code",
   "execution_count": 7,
   "id": "476f9a88",
   "metadata": {},
   "outputs": [],
   "source": [
    "params = generate_HGNN_params(Oh, Nei, Ef, Eei, dim, hidden, nhidden, key)"
   ]
  },
  {
   "cell_type": "code",
   "execution_count": 8,
   "id": "af7fd0dd",
   "metadata": {},
   "outputs": [],
   "source": [
    "R, V = jnp.split(Zs[0], 2, axis=0)\n",
    "\n",
    "apply_fn = energy_fn(senders=senders, receivers=receivers, species=species, R=R, V=V, eorder=eorder)\n",
    "Hmodel = generate_Hmodel(apply_fn)\n",
    "\n",
    "zdot_model, lamda_force_model = get_zdot_lambda(\n",
    "    N, dim, hamiltonian=Hmodel, drag=None, \n",
    "    constraints=None, \n",
    "    external_force=None)\n",
    "\n",
    "\n",
    "v_zdot_model = vmap(zdot_model, in_axes=(0, 0, None))"
   ]
  },
  {
   "cell_type": "code",
   "execution_count": null,
   "id": "9238852f",
   "metadata": {},
   "outputs": [],
   "source": []
  },
  {
   "cell_type": "code",
   "execution_count": 10,
   "id": "11538cd4",
   "metadata": {
    "scrolled": false
   },
   "outputs": [],
   "source": [
    "loss_fn = generate_loss_fn(v_zdot_model=v_zdot_model)\n",
    "gloss = generate_gloss(loss_fn=loss_fn)\n",
    "\n",
    "opt_init, opt_update_, get_params = optimizers.adam(lr)\n",
    "\n",
    "opt_update = generate_opt_update_wrapper(opt_update_=opt_update_)\n",
    "\n",
    "step = generate_update_fn(gloss=gloss, opt_update=opt_update, get_params=get_params)\n",
    "\n",
    "Rs, Vs = jnp.split(Zs, 2, axis=1)\n",
    "Rst, Vst = jnp.split(Zst, 2, axis=1)\n",
    "\n",
    "bRs, bVs, bZs_dot = batching(Rs, Vs, Zs_dot,\n",
    "                            size=min(len(Rs), batch_size))\n",
    "\n",
    "print(f\"Training ...\")\n",
    "\n",
    "# opt_state = optimiser.init(params)\n",
    "opt_state = opt_init(params)\n",
    "\n",
    "epoch = 0\n",
    "optimizer_step = -1\n",
    "larray = []\n",
    "ltarray = []\n",
    "\n",
    "last_loss = 1000\n",
    "\n",
    "for epoch in tqdm.tnrange(epochs):\n",
    "    \n",
    "    change_RNG()\n",
    "    \n",
    "    l = 0.0\n",
    "    for data in zip(bRs, bVs, bZs_dot):\n",
    "        optimizer_step += 1\n",
    "        opt_state, params, l_ = step(optimizer_step, (opt_state, params, 0), *data)\n",
    "        l += l_\n",
    "    l = l/len(bRs)\n",
    "    if (epoch + 1) % (epochs // 20) == 0:\n",
    "        # opt_state, params, l = step(\n",
    "        #     optimizer_step, (opt_state, params, 0), Rs, Vs, Zs_dot)\n",
    "        larray += [l]\n",
    "        ltarray += [loss_fn(params, Rst, Vst, Zst_dot)]\n",
    "        print(f\"Epoch: {epoch + 1}/{epochs} Loss (MSE):  train={larray[-1]}, test={ltarray[-1]}\")\n",
    "    \n",
    "params = get_params(opt_state)\n",
    "\n",
    "fig, axs = plt.subplots(1, 1)\n",
    "plt.semilogy(larray, label=\"Training\")\n",
    "plt.semilogy(ltarray, label=\"Test\")\n",
    "plt.xlabel(\"Epoch\")\n",
    "plt.ylabel(\"Loss\")\n",
    "plt.legend()"
   ]
  },
  {
   "cell_type": "code",
   "execution_count": 98,
   "id": "f261ddd9",
   "metadata": {},
   "outputs": [
    {
     "data": {
      "image/png": "[encoded data removed]",
      "text/plain": [
       "<Figure size 640x480 with 1 Axes>"
      ]
     },
     "metadata": {},
     "output_type": "display_data"
    }
   ],
   "source": [
    "idx = 4\n",
    "reps = 100\n",
    "\n",
    "i_err = 1\n",
    "\n",
    "z_actual_out = Zs_test[idx]\n",
    "x_act_out, _ = jnp.split(z_actual_out, 2, axis=1)\n",
    "\n",
    "for i in range(x_act_out.shape[1]):\n",
    "    plt.plot(x_act_out[:,i,0], x_act_out[:,i,1], '-', color=f'C{i}')\n",
    "plt.plot(x_act_out[-1,:,0], x_act_out[-1,:,1], 'o', color='black')\n",
    "\n",
    "plt.gca().set_aspect('equal', adjustable='box')\n",
    "plt.show()"
   ]
  },
  {
   "cell_type": "code",
   "execution_count": 99,
   "id": "d539e851",
   "metadata": {
    "scrolled": false
   },
   "outputs": [
    {
     "name": "stderr",
     "output_type": "stream",
     "text": [
      "/tmp/ipykernel_3534820/4191491198.py:19: TqdmDeprecationWarning: Please use `tqdm.notebook.trange` instead of `tqdm.tnrange`\n",
      "  for _ in tqdm.tnrange(reps):\n"
     ]
    },
    {
     "data": {
      "application/json": {
       "ascii": false,
       "bar_format": null,
       "colour": null,
       "elapsed": 0.010085105895996094,
       "initial": 0,
       "n": 0,
       "ncols": null,
       "nrows": 27,
       "postfix": null,
       "prefix": "",
       "rate": null,
       "total": 100,
       "unit": "it",
       "unit_divisor": 1000,
       "unit_scale": false
      },
      "application/vnd.jupyter.widget-view+json": {
       "model_id": "e6eb805cf4354ee5bb5419cf9701fec3",
       "version_major": 2,
       "version_minor": 0
      },
      "text/plain": [
       "  0%|          | 0/100 [00:00<?, ?it/s]"
      ]
     },
     "metadata": {},
     "output_type": "display_data"
    }
   ],
   "source": [
    "runs = Zs_test.shape[1]\n",
    "\n",
    "sim_model = get_forward_sim(params=params, zdot_model=zdot_model, \n",
    "                            runs=runs, stride=stride, dt=dt, tol=1e-6)\n",
    "\n",
    "\n",
    "z_actual_out = Zs_test[idx]\n",
    "x_act_out, p_act_out = jnp.split(z_actual_out, 2, axis=1)\n",
    "\n",
    "Zs_init = Zs_test[idx:idx+1, 0:1]\n",
    "    \n",
    "trajectories = {\n",
    "    'pred_pos': [],\n",
    "    'pred_vel': [],\n",
    "    'actual_pos': x_act_out,\n",
    "    'actual_vel': p_act_out,\n",
    "}\n",
    "\n",
    "for _ in tqdm.tnrange(reps):\n",
    "    \n",
    "    change_RNG()\n",
    "    \n",
    "    Zs_noisy = add_noise_and_truncate(Zs_init, Zs_init, scale=noise_scale)[0].squeeze((0, 1))\n",
    "    R_noisy = Zs_noisy[:N]\n",
    "    V_noisy = Zs_noisy[N:]\n",
    "\n",
    "    z_pred_out = sim_model(R_noisy, V_noisy)\n",
    "    x_pred_out, p_pred_out = jnp.split(z_pred_out, 2, axis=1)\n",
    "\n",
    "    with jax.default_device(jax.devices('cpu')[0]):\n",
    "        trajectories['pred_pos'].append(x_pred_out)\n",
    "        trajectories['pred_vel'].append(p_pred_out)"
   ]
  },
  {
   "cell_type": "code",
   "execution_count": 100,
   "id": "af63880d",
   "metadata": {},
   "outputs": [],
   "source": [
    "trajectories['pred_pos'] = jnp.array(trajectories['pred_pos'])\n",
    "trajectories['pred_vel'] = jnp.array(trajectories['pred_vel'])\n",
    "\n",
    "trajectories['pred_pos_avg'] = jnp.mean(trajectories['pred_pos'], axis=0)\n",
    "trajectories['pred_vel_avg'] = jnp.mean(trajectories['pred_vel'], axis=0)"
   ]
  },
  {
   "cell_type": "code",
   "execution_count": null,
   "id": "c3e78347",
   "metadata": {},
   "outputs": [],
   "source": []
  },
  {
   "cell_type": "code",
   "execution_count": 101,
   "id": "ad276571",
   "metadata": {},
   "outputs": [
    {
     "data": {
      "image/png": "[encoded data removed]",
      "text/plain": [
       "<Figure size 640x480 with 1 Axes>"
      ]
     },
     "metadata": {},
     "output_type": "display_data"
    }
   ],
   "source": [
    "i_err = 1\n",
    "\n",
    "r = trajectories['actual_pos']\n",
    "for i in range(r.shape[1]):\n",
    "    plt.plot(r[:,i,0], r[:,i,1], '-', color=f'C{i}', alpha=0.2)\n",
    "plt.plot(r[-1,:,0], r[-1,:,1], 'o', color='black', alpha=0.1)\n",
    "\n",
    "r = trajectories['pred_pos_avg']\n",
    "for i in range(r.shape[1]):\n",
    "    if i != i_err:\n",
    "        plt.plot(r[:,i,0], r[:,i,1], '-', color=f'C{i}')\n",
    "plt.plot(r[-1,:,0], r[-1,:,1], 'o', color='black')\n",
    "\n",
    "r = trajectories['pred_pos']\n",
    "for t in range(r.shape[1]):\n",
    "    plt.plot(r[:,t,i_err,0], r[:,t,i_err,1], '.', color=f'C{i_err}', markerfacecolor=None, alpha=1. / reps)\n",
    "\n",
    "plt.gca().set_aspect('equal', adjustable='box')\n",
    "plt.show()"
   ]
  },
  {
   "cell_type": "code",
   "execution_count": 102,
   "id": "215c7f72",
   "metadata": {
    "scrolled": false
   },
   "outputs": [
    {
     "name": "stderr",
     "output_type": "stream",
     "text": [
      "/tmp/ipykernel_3534820/1590745960.py:42: TqdmDeprecationWarning: Please use `tqdm.notebook.trange` instead of `tqdm.tnrange`\n",
      "  ani = FuncAnimation(fig, update, frames=tqdm.tnrange(runs), init_func=init, blit=True, interval=10)\n"
     ]
    },
    {
     "data": {
      "application/json": {
       "ascii": false,
       "bar_format": null,
       "colour": null,
       "elapsed": 0.010181665420532227,
       "initial": 0,
       "n": 0,
       "ncols": null,
       "nrows": 27,
       "postfix": null,
       "prefix": "",
       "rate": null,
       "total": 1000,
       "unit": "it",
       "unit_divisor": 1000,
       "unit_scale": false
      },
      "application/vnd.jupyter.widget-view+json": {
       "model_id": "101bd4075eaf48bc97b8f1c89701ab0f",
       "version_major": 2,
       "version_minor": 0
      },
      "text/plain": [
       "  0%|          | 0/1000 [00:00<?, ?it/s]"
      ]
     },
     "metadata": {},
     "output_type": "display_data"
    },
    {
     "name": "stderr",
     "output_type": "stream",
     "text": [
      "\n",
      "KeyboardInterrupt\n",
      "\n"
     ]
    }
   ],
   "source": [
    "fig, ax = plt.subplots()\n",
    "\n",
    "# r = trajectories['actual_pos']\n",
    "# traj_actual = [ax.plot(r[:,i,0], r[:,i,1], '-', color=f'C{i}', alpha=0.1)[0] for i in range(r.shape[1])]  \n",
    "# ball_actual, = ax.plot(r[-1,:,0], r[-1,:,1], 'o', color='black', alpha=0.1)\n",
    "\n",
    "r = trajectories['pred_pos_avg']\n",
    "traj_pred = [ax.plot(r[:,i,0], r[:,i,1], '-', color=f'C{i}', alpha=1.)[0] for i in range(r.shape[1])]  \n",
    "ball_pred, = ax.plot(r[-1,:,0], r[-1,:,1], 'o', color='black', alpha=0.5, zorder=5.)\n",
    "\n",
    "r = trajectories['pred_pos']\n",
    "point_cloud = [ax.plot(r[:,0,i,0], r[:,0,i,1], 'o', color=f'C{i}', \n",
    "                       alpha=2. / reps, zorder=4., markerfacecolor=None)[0] \n",
    "               for i in range(r.shape[2])]  \n",
    "\n",
    "def gather():\n",
    "#     return traj_actual + [ball_actual] + traj_pred + [ball_pred]\n",
    "    return point_cloud + traj_pred + [ball_pred]\n",
    "\n",
    "def init():\n",
    "    ax.set_aspect('equal', adjustable='box')\n",
    "    return gather()\n",
    "\n",
    "def update(frame):\n",
    "    \n",
    "#     r = trajectories['actual_pos']\n",
    "#     for i in range(r.shape[1]):\n",
    "#         traj_actual[i].set_data(r[:frame,i,0], r[:frame,i,1])\n",
    "#     ball_actual.set_data(r[frame,:,0], r[frame,:,1])\n",
    "\n",
    "    r = trajectories['pred_pos_avg']\n",
    "    for i in range(r.shape[1]):\n",
    "        traj_pred[i].set_data([], [])\n",
    "    ball_pred.set_data(r[frame,:,0], r[frame,:,1])\n",
    "    \n",
    "    r = trajectories['pred_pos']\n",
    "    for i in range(r.shape[2]):\n",
    "        point_cloud[i].set_data(r[:,frame,i,0], r[:,frame,i,1])\n",
    "    \n",
    "    return gather()\n",
    "\n",
    "ani = FuncAnimation(fig, update, frames=tqdm.tnrange(runs), init_func=init, blit=True, interval=10)\n",
    "plt.close(fig)\n",
    "HTML(ani.to_jshtml())"
   ]
  },
  {
   "cell_type": "code",
   "execution_count": null,
   "id": "b5648f29",
   "metadata": {},
   "outputs": [],
   "source": [
    "writergif = PillowWriter(fps=30, bitrate=300) \n",
    "ani.save(f'./demo/nbody-n3-uncertainty-{idx}.gif', writer=writergif)"
   ]
  },
  {
   "cell_type": "code",
   "execution_count": null,
   "id": "93fff123",
   "metadata": {},
   "outputs": [],
   "source": []
  },
  {
   "cell_type": "code",
   "execution_count": null,
   "id": "75bd440d",
   "metadata": {},
   "outputs": [],
   "source": []
  }
 ],
 "metadata": {
  "kernelspec": {
   "display_name": "Python 3 (ipykernel)",
   "language": "python",
   "name": "python3"
  },
  "language_info": {
   "codemirror_mode": {
    "name": "ipython",
    "version": 3
   },
   "file_extension": ".py",
   "mimetype": "text/x-python",
   "name": "python",
   "nbconvert_exporter": "python",
   "pygments_lexer": "ipython3",
   "version": "3.8.0"
  }
 },
 "nbformat": 4,
 "nbformat_minor": 5
}
